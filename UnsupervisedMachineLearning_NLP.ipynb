{
  "cells": [
    {
      "cell_type": "markdown",
      "metadata": {
        "id": "view-in-github",
        "colab_type": "text"
      },
      "source": [
        "<a href=\"https://colab.research.google.com/github/lilasu086/Individual_Coding_Project/blob/main/UnsupervisedMachineLearning_NLP.ipynb\" target=\"_parent\"><img src=\"https://colab.research.google.com/assets/colab-badge.svg\" alt=\"Open In Colab\"/></a>"
      ]
    },
    {
      "cell_type": "markdown",
      "id": "89806e83-83ba-4dfe-8dfa-59d99908076b",
      "metadata": {
        "tags": [],
        "id": "89806e83-83ba-4dfe-8dfa-59d99908076b"
      },
      "source": [
        "# Description of Data\n",
        "\n",
        "The AI-GA (Artificial Intelligence Generated Abstracts) dataset is a collection of paper abstracts, either AI-generated or original.\n",
        "\n",
        "The AI-generated abstracts are generated using state-of-the-art language generation techniques (GPT-3 model).\n",
        "\n",
        "The dataset is provided in CSV format, with each row representing a single sample (i.e.,  a single abstract).\n",
        "\n",
        "*The ultimate goal of this assignment is to classify the abstracts based on the source (i.e., whether it is AI-generated or original).*\n",
        "\n",
        "Total sample size: 14,331 (7,248 AI-generated and 7,082 original)\n",
        "\n",
        "Each sample contains three columns: abstract, title, and label. The label indicates whether the sample is an original abstract (labeled as 0) or an AI-generated abstract (labeled as 1)."
      ]
    },
    {
      "cell_type": "markdown",
      "source": [
        "##Package installs and imports\n",
        "\n",
        "DO NOT CHANGE THIS CODE"
      ],
      "metadata": {
        "id": "BLCw374cLy-p"
      },
      "id": "BLCw374cLy-p"
    },
    {
      "cell_type": "code",
      "execution_count": null,
      "id": "6185d8c7-3e77-4c7d-8999-6b3f429cdfa4",
      "metadata": {
        "scrolled": true,
        "tags": [],
        "id": "6185d8c7-3e77-4c7d-8999-6b3f429cdfa4",
        "outputId": "1fdb45a3-d117-4b8e-dd19-f3a33f6d267d",
        "colab": {
          "base_uri": "https://localhost:8080/"
        }
      },
      "outputs": [
        {
          "output_type": "stream",
          "name": "stdout",
          "text": [
            "Requirement already satisfied: nltk in /usr/local/lib/python3.10/dist-packages (3.8.1)\n",
            "Requirement already satisfied: spacy in /usr/local/lib/python3.10/dist-packages (3.7.4)\n",
            "Requirement already satisfied: click in /usr/local/lib/python3.10/dist-packages (from nltk) (8.1.7)\n",
            "Requirement already satisfied: joblib in /usr/local/lib/python3.10/dist-packages (from nltk) (1.3.2)\n",
            "Requirement already satisfied: regex>=2021.8.3 in /usr/local/lib/python3.10/dist-packages (from nltk) (2023.12.25)\n",
            "Requirement already satisfied: tqdm in /usr/local/lib/python3.10/dist-packages (from nltk) (4.66.2)\n",
            "Requirement already satisfied: spacy-legacy<3.1.0,>=3.0.11 in /usr/local/lib/python3.10/dist-packages (from spacy) (3.0.12)\n",
            "Requirement already satisfied: spacy-loggers<2.0.0,>=1.0.0 in /usr/local/lib/python3.10/dist-packages (from spacy) (1.0.5)\n",
            "Requirement already satisfied: murmurhash<1.1.0,>=0.28.0 in /usr/local/lib/python3.10/dist-packages (from spacy) (1.0.10)\n",
            "Requirement already satisfied: cymem<2.1.0,>=2.0.2 in /usr/local/lib/python3.10/dist-packages (from spacy) (2.0.8)\n",
            "Requirement already satisfied: preshed<3.1.0,>=3.0.2 in /usr/local/lib/python3.10/dist-packages (from spacy) (3.0.9)\n",
            "Requirement already satisfied: thinc<8.3.0,>=8.2.2 in /usr/local/lib/python3.10/dist-packages (from spacy) (8.2.3)\n",
            "Requirement already satisfied: wasabi<1.2.0,>=0.9.1 in /usr/local/lib/python3.10/dist-packages (from spacy) (1.1.2)\n",
            "Requirement already satisfied: srsly<3.0.0,>=2.4.3 in /usr/local/lib/python3.10/dist-packages (from spacy) (2.4.8)\n",
            "Requirement already satisfied: catalogue<2.1.0,>=2.0.6 in /usr/local/lib/python3.10/dist-packages (from spacy) (2.0.10)\n",
            "Requirement already satisfied: weasel<0.4.0,>=0.1.0 in /usr/local/lib/python3.10/dist-packages (from spacy) (0.3.4)\n",
            "Requirement already satisfied: typer<0.10.0,>=0.3.0 in /usr/local/lib/python3.10/dist-packages (from spacy) (0.9.0)\n",
            "Requirement already satisfied: smart-open<7.0.0,>=5.2.1 in /usr/local/lib/python3.10/dist-packages (from spacy) (6.4.0)\n",
            "Requirement already satisfied: requests<3.0.0,>=2.13.0 in /usr/local/lib/python3.10/dist-packages (from spacy) (2.31.0)\n",
            "Requirement already satisfied: pydantic!=1.8,!=1.8.1,<3.0.0,>=1.7.4 in /usr/local/lib/python3.10/dist-packages (from spacy) (2.6.3)\n",
            "Requirement already satisfied: jinja2 in /usr/local/lib/python3.10/dist-packages (from spacy) (3.1.3)\n",
            "Requirement already satisfied: setuptools in /usr/local/lib/python3.10/dist-packages (from spacy) (67.7.2)\n",
            "Requirement already satisfied: packaging>=20.0 in /usr/local/lib/python3.10/dist-packages (from spacy) (23.2)\n",
            "Requirement already satisfied: langcodes<4.0.0,>=3.2.0 in /usr/local/lib/python3.10/dist-packages (from spacy) (3.3.0)\n",
            "Requirement already satisfied: numpy>=1.19.0 in /usr/local/lib/python3.10/dist-packages (from spacy) (1.25.2)\n",
            "Requirement already satisfied: annotated-types>=0.4.0 in /usr/local/lib/python3.10/dist-packages (from pydantic!=1.8,!=1.8.1,<3.0.0,>=1.7.4->spacy) (0.6.0)\n",
            "Requirement already satisfied: pydantic-core==2.16.3 in /usr/local/lib/python3.10/dist-packages (from pydantic!=1.8,!=1.8.1,<3.0.0,>=1.7.4->spacy) (2.16.3)\n",
            "Requirement already satisfied: typing-extensions>=4.6.1 in /usr/local/lib/python3.10/dist-packages (from pydantic!=1.8,!=1.8.1,<3.0.0,>=1.7.4->spacy) (4.10.0)\n",
            "Requirement already satisfied: charset-normalizer<4,>=2 in /usr/local/lib/python3.10/dist-packages (from requests<3.0.0,>=2.13.0->spacy) (3.3.2)\n",
            "Requirement already satisfied: idna<4,>=2.5 in /usr/local/lib/python3.10/dist-packages (from requests<3.0.0,>=2.13.0->spacy) (3.6)\n",
            "Requirement already satisfied: urllib3<3,>=1.21.1 in /usr/local/lib/python3.10/dist-packages (from requests<3.0.0,>=2.13.0->spacy) (2.0.7)\n",
            "Requirement already satisfied: certifi>=2017.4.17 in /usr/local/lib/python3.10/dist-packages (from requests<3.0.0,>=2.13.0->spacy) (2024.2.2)\n",
            "Requirement already satisfied: blis<0.8.0,>=0.7.8 in /usr/local/lib/python3.10/dist-packages (from thinc<8.3.0,>=8.2.2->spacy) (0.7.11)\n",
            "Requirement already satisfied: confection<1.0.0,>=0.0.1 in /usr/local/lib/python3.10/dist-packages (from thinc<8.3.0,>=8.2.2->spacy) (0.1.4)\n",
            "Requirement already satisfied: cloudpathlib<0.17.0,>=0.7.0 in /usr/local/lib/python3.10/dist-packages (from weasel<0.4.0,>=0.1.0->spacy) (0.16.0)\n",
            "Requirement already satisfied: MarkupSafe>=2.0 in /usr/local/lib/python3.10/dist-packages (from jinja2->spacy) (2.1.5)\n",
            "Collecting en-core-web-sm==3.7.1\n",
            "  Downloading https://github.com/explosion/spacy-models/releases/download/en_core_web_sm-3.7.1/en_core_web_sm-3.7.1-py3-none-any.whl (12.8 MB)\n",
            "\u001b[2K     \u001b[90m━━━━━━━━━━━━━━━━━━━━━━━━━━━━━━━━━━━━━━━━\u001b[0m \u001b[32m12.8/12.8 MB\u001b[0m \u001b[31m11.5 MB/s\u001b[0m eta \u001b[36m0:00:00\u001b[0m\n",
            "\u001b[?25hRequirement already satisfied: spacy<3.8.0,>=3.7.2 in /usr/local/lib/python3.10/dist-packages (from en-core-web-sm==3.7.1) (3.7.4)\n",
            "Requirement already satisfied: spacy-legacy<3.1.0,>=3.0.11 in /usr/local/lib/python3.10/dist-packages (from spacy<3.8.0,>=3.7.2->en-core-web-sm==3.7.1) (3.0.12)\n",
            "Requirement already satisfied: spacy-loggers<2.0.0,>=1.0.0 in /usr/local/lib/python3.10/dist-packages (from spacy<3.8.0,>=3.7.2->en-core-web-sm==3.7.1) (1.0.5)\n",
            "Requirement already satisfied: murmurhash<1.1.0,>=0.28.0 in /usr/local/lib/python3.10/dist-packages (from spacy<3.8.0,>=3.7.2->en-core-web-sm==3.7.1) (1.0.10)\n",
            "Requirement already satisfied: cymem<2.1.0,>=2.0.2 in /usr/local/lib/python3.10/dist-packages (from spacy<3.8.0,>=3.7.2->en-core-web-sm==3.7.1) (2.0.8)\n",
            "Requirement already satisfied: preshed<3.1.0,>=3.0.2 in /usr/local/lib/python3.10/dist-packages (from spacy<3.8.0,>=3.7.2->en-core-web-sm==3.7.1) (3.0.9)\n",
            "Requirement already satisfied: thinc<8.3.0,>=8.2.2 in /usr/local/lib/python3.10/dist-packages (from spacy<3.8.0,>=3.7.2->en-core-web-sm==3.7.1) (8.2.3)\n",
            "Requirement already satisfied: wasabi<1.2.0,>=0.9.1 in /usr/local/lib/python3.10/dist-packages (from spacy<3.8.0,>=3.7.2->en-core-web-sm==3.7.1) (1.1.2)\n",
            "Requirement already satisfied: srsly<3.0.0,>=2.4.3 in /usr/local/lib/python3.10/dist-packages (from spacy<3.8.0,>=3.7.2->en-core-web-sm==3.7.1) (2.4.8)\n",
            "Requirement already satisfied: catalogue<2.1.0,>=2.0.6 in /usr/local/lib/python3.10/dist-packages (from spacy<3.8.0,>=3.7.2->en-core-web-sm==3.7.1) (2.0.10)\n",
            "Requirement already satisfied: weasel<0.4.0,>=0.1.0 in /usr/local/lib/python3.10/dist-packages (from spacy<3.8.0,>=3.7.2->en-core-web-sm==3.7.1) (0.3.4)\n",
            "Requirement already satisfied: typer<0.10.0,>=0.3.0 in /usr/local/lib/python3.10/dist-packages (from spacy<3.8.0,>=3.7.2->en-core-web-sm==3.7.1) (0.9.0)\n",
            "Requirement already satisfied: smart-open<7.0.0,>=5.2.1 in /usr/local/lib/python3.10/dist-packages (from spacy<3.8.0,>=3.7.2->en-core-web-sm==3.7.1) (6.4.0)\n",
            "Requirement already satisfied: tqdm<5.0.0,>=4.38.0 in /usr/local/lib/python3.10/dist-packages (from spacy<3.8.0,>=3.7.2->en-core-web-sm==3.7.1) (4.66.2)\n",
            "Requirement already satisfied: requests<3.0.0,>=2.13.0 in /usr/local/lib/python3.10/dist-packages (from spacy<3.8.0,>=3.7.2->en-core-web-sm==3.7.1) (2.31.0)\n",
            "Requirement already satisfied: pydantic!=1.8,!=1.8.1,<3.0.0,>=1.7.4 in /usr/local/lib/python3.10/dist-packages (from spacy<3.8.0,>=3.7.2->en-core-web-sm==3.7.1) (2.6.3)\n",
            "Requirement already satisfied: jinja2 in /usr/local/lib/python3.10/dist-packages (from spacy<3.8.0,>=3.7.2->en-core-web-sm==3.7.1) (3.1.3)\n",
            "Requirement already satisfied: setuptools in /usr/local/lib/python3.10/dist-packages (from spacy<3.8.0,>=3.7.2->en-core-web-sm==3.7.1) (67.7.2)\n",
            "Requirement already satisfied: packaging>=20.0 in /usr/local/lib/python3.10/dist-packages (from spacy<3.8.0,>=3.7.2->en-core-web-sm==3.7.1) (23.2)\n",
            "Requirement already satisfied: langcodes<4.0.0,>=3.2.0 in /usr/local/lib/python3.10/dist-packages (from spacy<3.8.0,>=3.7.2->en-core-web-sm==3.7.1) (3.3.0)\n",
            "Requirement already satisfied: numpy>=1.19.0 in /usr/local/lib/python3.10/dist-packages (from spacy<3.8.0,>=3.7.2->en-core-web-sm==3.7.1) (1.25.2)\n",
            "Requirement already satisfied: annotated-types>=0.4.0 in /usr/local/lib/python3.10/dist-packages (from pydantic!=1.8,!=1.8.1,<3.0.0,>=1.7.4->spacy<3.8.0,>=3.7.2->en-core-web-sm==3.7.1) (0.6.0)\n",
            "Requirement already satisfied: pydantic-core==2.16.3 in /usr/local/lib/python3.10/dist-packages (from pydantic!=1.8,!=1.8.1,<3.0.0,>=1.7.4->spacy<3.8.0,>=3.7.2->en-core-web-sm==3.7.1) (2.16.3)\n",
            "Requirement already satisfied: typing-extensions>=4.6.1 in /usr/local/lib/python3.10/dist-packages (from pydantic!=1.8,!=1.8.1,<3.0.0,>=1.7.4->spacy<3.8.0,>=3.7.2->en-core-web-sm==3.7.1) (4.10.0)\n",
            "Requirement already satisfied: charset-normalizer<4,>=2 in /usr/local/lib/python3.10/dist-packages (from requests<3.0.0,>=2.13.0->spacy<3.8.0,>=3.7.2->en-core-web-sm==3.7.1) (3.3.2)\n",
            "Requirement already satisfied: idna<4,>=2.5 in /usr/local/lib/python3.10/dist-packages (from requests<3.0.0,>=2.13.0->spacy<3.8.0,>=3.7.2->en-core-web-sm==3.7.1) (3.6)\n",
            "Requirement already satisfied: urllib3<3,>=1.21.1 in /usr/local/lib/python3.10/dist-packages (from requests<3.0.0,>=2.13.0->spacy<3.8.0,>=3.7.2->en-core-web-sm==3.7.1) (2.0.7)\n",
            "Requirement already satisfied: certifi>=2017.4.17 in /usr/local/lib/python3.10/dist-packages (from requests<3.0.0,>=2.13.0->spacy<3.8.0,>=3.7.2->en-core-web-sm==3.7.1) (2024.2.2)\n",
            "Requirement already satisfied: blis<0.8.0,>=0.7.8 in /usr/local/lib/python3.10/dist-packages (from thinc<8.3.0,>=8.2.2->spacy<3.8.0,>=3.7.2->en-core-web-sm==3.7.1) (0.7.11)\n",
            "Requirement already satisfied: confection<1.0.0,>=0.0.1 in /usr/local/lib/python3.10/dist-packages (from thinc<8.3.0,>=8.2.2->spacy<3.8.0,>=3.7.2->en-core-web-sm==3.7.1) (0.1.4)\n",
            "Requirement already satisfied: click<9.0.0,>=7.1.1 in /usr/local/lib/python3.10/dist-packages (from typer<0.10.0,>=0.3.0->spacy<3.8.0,>=3.7.2->en-core-web-sm==3.7.1) (8.1.7)\n",
            "Requirement already satisfied: cloudpathlib<0.17.0,>=0.7.0 in /usr/local/lib/python3.10/dist-packages (from weasel<0.4.0,>=0.1.0->spacy<3.8.0,>=3.7.2->en-core-web-sm==3.7.1) (0.16.0)\n",
            "Requirement already satisfied: MarkupSafe>=2.0 in /usr/local/lib/python3.10/dist-packages (from jinja2->spacy<3.8.0,>=3.7.2->en-core-web-sm==3.7.1) (2.1.5)\n",
            "\u001b[38;5;2m✔ Download and installation successful\u001b[0m\n",
            "You can now load the package via spacy.load('en_core_web_sm')\n",
            "\u001b[38;5;3m⚠ Restart to reload dependencies\u001b[0m\n",
            "If you are in a Jupyter or Colab notebook, you may need to restart Python in\n",
            "order to load all the package's dependencies. You can do this by selecting the\n",
            "'Restart kernel' or 'Restart runtime' option.\n"
          ]
        }
      ],
      "source": [
        "!pip3 install nltk spacy\n",
        "!python -m spacy download en_core_web_sm"
      ]
    },
    {
      "cell_type": "code",
      "execution_count": null,
      "id": "9d09059c-ecd1-4167-b936-2ca2c8f31350",
      "metadata": {
        "tags": [],
        "id": "9d09059c-ecd1-4167-b936-2ca2c8f31350",
        "outputId": "f41aa9a3-ae47-496f-d454-c531cc02047a",
        "colab": {
          "base_uri": "https://localhost:8080/"
        }
      },
      "outputs": [
        {
          "output_type": "stream",
          "name": "stderr",
          "text": [
            "[nltk_data] Downloading package punkt to /root/nltk_data...\n",
            "[nltk_data]   Unzipping tokenizers/punkt.zip.\n",
            "[nltk_data] Downloading package stopwords to /root/nltk_data...\n",
            "[nltk_data]   Unzipping corpora/stopwords.zip.\n",
            "[nltk_data] Downloading package wordnet to /root/nltk_data...\n"
          ]
        },
        {
          "output_type": "execute_result",
          "data": {
            "text/plain": [
              "True"
            ]
          },
          "metadata": {},
          "execution_count": 2
        }
      ],
      "source": [
        "import pandas as pd\n",
        "import numpy as np\n",
        "import nltk\n",
        "from nltk.tokenize import word_tokenize\n",
        "from nltk.corpus import stopwords\n",
        "\n",
        "nltk.download('punkt')\n",
        "nltk.download('stopwords')\n",
        "nltk.download('wordnet')"
      ]
    },
    {
      "cell_type": "markdown",
      "source": [
        "Load dataset **\"ai-ga-dataset.csv\"** as a csv file and save it as a dataframe named **\"abstracts_df\"**"
      ],
      "metadata": {
        "id": "UThQWFjYaYw6"
      },
      "id": "UThQWFjYaYw6"
    },
    {
      "cell_type": "code",
      "execution_count": null,
      "id": "b869f345-f1ef-4a65-8346-fc8bdff84150",
      "metadata": {
        "id": "b869f345-f1ef-4a65-8346-fc8bdff84150",
        "outputId": "9aa9ae7e-9ecd-4460-826e-4acd8796705b",
        "colab": {
          "base_uri": "https://localhost:8080/",
          "height": 206
        }
      },
      "outputs": [
        {
          "output_type": "execute_result",
          "data": {
            "text/plain": [
              "   doc_id                                              title  \\\n",
              "0       1  Exaggerated Autophagy in Stanford Type A Aorti...   \n",
              "1       2               ABO blood types and sepsis mortality   \n",
              "2       3  AAV8-Mediated Angiotensin-Converting Enzyme 2 ...   \n",
              "3       4  MyCare study: protocol for a controlled trial ...   \n",
              "4       5  Exploring collective emotion transmission in f...   \n",
              "\n",
              "                                            abstract  label  \n",
              "0  \\n\\nThis study presents a novel transcriptome ...      1  \n",
              "1  \\n\\nThe ABO blood types have been associated w...      1  \n",
              "2  \\n\\nTitle: AAV8-Mediated Angiotensin-Convertin...      1  \n",
              "3  INTRODUCTION: People with serious mental illne...      0  \n",
              "4  Collective emotion is the synchronous converge...      0  "
            ],
            "text/html": [
              "\n",
              "  <div id=\"df-e7a6b4cf-954e-44c5-b00b-59f680ca069c\" class=\"colab-df-container\">\n",
              "    <div>\n",
              "<style scoped>\n",
              "    .dataframe tbody tr th:only-of-type {\n",
              "        vertical-align: middle;\n",
              "    }\n",
              "\n",
              "    .dataframe tbody tr th {\n",
              "        vertical-align: top;\n",
              "    }\n",
              "\n",
              "    .dataframe thead th {\n",
              "        text-align: right;\n",
              "    }\n",
              "</style>\n",
              "<table border=\"1\" class=\"dataframe\">\n",
              "  <thead>\n",
              "    <tr style=\"text-align: right;\">\n",
              "      <th></th>\n",
              "      <th>doc_id</th>\n",
              "      <th>title</th>\n",
              "      <th>abstract</th>\n",
              "      <th>label</th>\n",
              "    </tr>\n",
              "  </thead>\n",
              "  <tbody>\n",
              "    <tr>\n",
              "      <th>0</th>\n",
              "      <td>1</td>\n",
              "      <td>Exaggerated Autophagy in Stanford Type A Aorti...</td>\n",
              "      <td>\\n\\nThis study presents a novel transcriptome ...</td>\n",
              "      <td>1</td>\n",
              "    </tr>\n",
              "    <tr>\n",
              "      <th>1</th>\n",
              "      <td>2</td>\n",
              "      <td>ABO blood types and sepsis mortality</td>\n",
              "      <td>\\n\\nThe ABO blood types have been associated w...</td>\n",
              "      <td>1</td>\n",
              "    </tr>\n",
              "    <tr>\n",
              "      <th>2</th>\n",
              "      <td>3</td>\n",
              "      <td>AAV8-Mediated Angiotensin-Converting Enzyme 2 ...</td>\n",
              "      <td>\\n\\nTitle: AAV8-Mediated Angiotensin-Convertin...</td>\n",
              "      <td>1</td>\n",
              "    </tr>\n",
              "    <tr>\n",
              "      <th>3</th>\n",
              "      <td>4</td>\n",
              "      <td>MyCare study: protocol for a controlled trial ...</td>\n",
              "      <td>INTRODUCTION: People with serious mental illne...</td>\n",
              "      <td>0</td>\n",
              "    </tr>\n",
              "    <tr>\n",
              "      <th>4</th>\n",
              "      <td>5</td>\n",
              "      <td>Exploring collective emotion transmission in f...</td>\n",
              "      <td>Collective emotion is the synchronous converge...</td>\n",
              "      <td>0</td>\n",
              "    </tr>\n",
              "  </tbody>\n",
              "</table>\n",
              "</div>\n",
              "    <div class=\"colab-df-buttons\">\n",
              "\n",
              "  <div class=\"colab-df-container\">\n",
              "    <button class=\"colab-df-convert\" onclick=\"convertToInteractive('df-e7a6b4cf-954e-44c5-b00b-59f680ca069c')\"\n",
              "            title=\"Convert this dataframe to an interactive table.\"\n",
              "            style=\"display:none;\">\n",
              "\n",
              "  <svg xmlns=\"http://www.w3.org/2000/svg\" height=\"24px\" viewBox=\"0 -960 960 960\">\n",
              "    <path d=\"M120-120v-720h720v720H120Zm60-500h600v-160H180v160Zm220 220h160v-160H400v160Zm0 220h160v-160H400v160ZM180-400h160v-160H180v160Zm440 0h160v-160H620v160ZM180-180h160v-160H180v160Zm440 0h160v-160H620v160Z\"/>\n",
              "  </svg>\n",
              "    </button>\n",
              "\n",
              "  <style>\n",
              "    .colab-df-container {\n",
              "      display:flex;\n",
              "      gap: 12px;\n",
              "    }\n",
              "\n",
              "    .colab-df-convert {\n",
              "      background-color: #E8F0FE;\n",
              "      border: none;\n",
              "      border-radius: 50%;\n",
              "      cursor: pointer;\n",
              "      display: none;\n",
              "      fill: #1967D2;\n",
              "      height: 32px;\n",
              "      padding: 0 0 0 0;\n",
              "      width: 32px;\n",
              "    }\n",
              "\n",
              "    .colab-df-convert:hover {\n",
              "      background-color: #E2EBFA;\n",
              "      box-shadow: 0px 1px 2px rgba(60, 64, 67, 0.3), 0px 1px 3px 1px rgba(60, 64, 67, 0.15);\n",
              "      fill: #174EA6;\n",
              "    }\n",
              "\n",
              "    .colab-df-buttons div {\n",
              "      margin-bottom: 4px;\n",
              "    }\n",
              "\n",
              "    [theme=dark] .colab-df-convert {\n",
              "      background-color: #3B4455;\n",
              "      fill: #D2E3FC;\n",
              "    }\n",
              "\n",
              "    [theme=dark] .colab-df-convert:hover {\n",
              "      background-color: #434B5C;\n",
              "      box-shadow: 0px 1px 3px 1px rgba(0, 0, 0, 0.15);\n",
              "      filter: drop-shadow(0px 1px 2px rgba(0, 0, 0, 0.3));\n",
              "      fill: #FFFFFF;\n",
              "    }\n",
              "  </style>\n",
              "\n",
              "    <script>\n",
              "      const buttonEl =\n",
              "        document.querySelector('#df-e7a6b4cf-954e-44c5-b00b-59f680ca069c button.colab-df-convert');\n",
              "      buttonEl.style.display =\n",
              "        google.colab.kernel.accessAllowed ? 'block' : 'none';\n",
              "\n",
              "      async function convertToInteractive(key) {\n",
              "        const element = document.querySelector('#df-e7a6b4cf-954e-44c5-b00b-59f680ca069c');\n",
              "        const dataTable =\n",
              "          await google.colab.kernel.invokeFunction('convertToInteractive',\n",
              "                                                    [key], {});\n",
              "        if (!dataTable) return;\n",
              "\n",
              "        const docLinkHtml = 'Like what you see? Visit the ' +\n",
              "          '<a target=\"_blank\" href=https://colab.research.google.com/notebooks/data_table.ipynb>data table notebook</a>'\n",
              "          + ' to learn more about interactive tables.';\n",
              "        element.innerHTML = '';\n",
              "        dataTable['output_type'] = 'display_data';\n",
              "        await google.colab.output.renderOutput(dataTable, element);\n",
              "        const docLink = document.createElement('div');\n",
              "        docLink.innerHTML = docLinkHtml;\n",
              "        element.appendChild(docLink);\n",
              "      }\n",
              "    </script>\n",
              "  </div>\n",
              "\n",
              "\n",
              "<div id=\"df-321d1a47-d258-4b20-8f5f-6c0dda544038\">\n",
              "  <button class=\"colab-df-quickchart\" onclick=\"quickchart('df-321d1a47-d258-4b20-8f5f-6c0dda544038')\"\n",
              "            title=\"Suggest charts\"\n",
              "            style=\"display:none;\">\n",
              "\n",
              "<svg xmlns=\"http://www.w3.org/2000/svg\" height=\"24px\"viewBox=\"0 0 24 24\"\n",
              "     width=\"24px\">\n",
              "    <g>\n",
              "        <path d=\"M19 3H5c-1.1 0-2 .9-2 2v14c0 1.1.9 2 2 2h14c1.1 0 2-.9 2-2V5c0-1.1-.9-2-2-2zM9 17H7v-7h2v7zm4 0h-2V7h2v10zm4 0h-2v-4h2v4z\"/>\n",
              "    </g>\n",
              "</svg>\n",
              "  </button>\n",
              "\n",
              "<style>\n",
              "  .colab-df-quickchart {\n",
              "      --bg-color: #E8F0FE;\n",
              "      --fill-color: #1967D2;\n",
              "      --hover-bg-color: #E2EBFA;\n",
              "      --hover-fill-color: #174EA6;\n",
              "      --disabled-fill-color: #AAA;\n",
              "      --disabled-bg-color: #DDD;\n",
              "  }\n",
              "\n",
              "  [theme=dark] .colab-df-quickchart {\n",
              "      --bg-color: #3B4455;\n",
              "      --fill-color: #D2E3FC;\n",
              "      --hover-bg-color: #434B5C;\n",
              "      --hover-fill-color: #FFFFFF;\n",
              "      --disabled-bg-color: #3B4455;\n",
              "      --disabled-fill-color: #666;\n",
              "  }\n",
              "\n",
              "  .colab-df-quickchart {\n",
              "    background-color: var(--bg-color);\n",
              "    border: none;\n",
              "    border-radius: 50%;\n",
              "    cursor: pointer;\n",
              "    display: none;\n",
              "    fill: var(--fill-color);\n",
              "    height: 32px;\n",
              "    padding: 0;\n",
              "    width: 32px;\n",
              "  }\n",
              "\n",
              "  .colab-df-quickchart:hover {\n",
              "    background-color: var(--hover-bg-color);\n",
              "    box-shadow: 0 1px 2px rgba(60, 64, 67, 0.3), 0 1px 3px 1px rgba(60, 64, 67, 0.15);\n",
              "    fill: var(--button-hover-fill-color);\n",
              "  }\n",
              "\n",
              "  .colab-df-quickchart-complete:disabled,\n",
              "  .colab-df-quickchart-complete:disabled:hover {\n",
              "    background-color: var(--disabled-bg-color);\n",
              "    fill: var(--disabled-fill-color);\n",
              "    box-shadow: none;\n",
              "  }\n",
              "\n",
              "  .colab-df-spinner {\n",
              "    border: 2px solid var(--fill-color);\n",
              "    border-color: transparent;\n",
              "    border-bottom-color: var(--fill-color);\n",
              "    animation:\n",
              "      spin 1s steps(1) infinite;\n",
              "  }\n",
              "\n",
              "  @keyframes spin {\n",
              "    0% {\n",
              "      border-color: transparent;\n",
              "      border-bottom-color: var(--fill-color);\n",
              "      border-left-color: var(--fill-color);\n",
              "    }\n",
              "    20% {\n",
              "      border-color: transparent;\n",
              "      border-left-color: var(--fill-color);\n",
              "      border-top-color: var(--fill-color);\n",
              "    }\n",
              "    30% {\n",
              "      border-color: transparent;\n",
              "      border-left-color: var(--fill-color);\n",
              "      border-top-color: var(--fill-color);\n",
              "      border-right-color: var(--fill-color);\n",
              "    }\n",
              "    40% {\n",
              "      border-color: transparent;\n",
              "      border-right-color: var(--fill-color);\n",
              "      border-top-color: var(--fill-color);\n",
              "    }\n",
              "    60% {\n",
              "      border-color: transparent;\n",
              "      border-right-color: var(--fill-color);\n",
              "    }\n",
              "    80% {\n",
              "      border-color: transparent;\n",
              "      border-right-color: var(--fill-color);\n",
              "      border-bottom-color: var(--fill-color);\n",
              "    }\n",
              "    90% {\n",
              "      border-color: transparent;\n",
              "      border-bottom-color: var(--fill-color);\n",
              "    }\n",
              "  }\n",
              "</style>\n",
              "\n",
              "  <script>\n",
              "    async function quickchart(key) {\n",
              "      const quickchartButtonEl =\n",
              "        document.querySelector('#' + key + ' button');\n",
              "      quickchartButtonEl.disabled = true;  // To prevent multiple clicks.\n",
              "      quickchartButtonEl.classList.add('colab-df-spinner');\n",
              "      try {\n",
              "        const charts = await google.colab.kernel.invokeFunction(\n",
              "            'suggestCharts', [key], {});\n",
              "      } catch (error) {\n",
              "        console.error('Error during call to suggestCharts:', error);\n",
              "      }\n",
              "      quickchartButtonEl.classList.remove('colab-df-spinner');\n",
              "      quickchartButtonEl.classList.add('colab-df-quickchart-complete');\n",
              "    }\n",
              "    (() => {\n",
              "      let quickchartButtonEl =\n",
              "        document.querySelector('#df-321d1a47-d258-4b20-8f5f-6c0dda544038 button');\n",
              "      quickchartButtonEl.style.display =\n",
              "        google.colab.kernel.accessAllowed ? 'block' : 'none';\n",
              "    })();\n",
              "  </script>\n",
              "</div>\n",
              "    </div>\n",
              "  </div>\n"
            ],
            "application/vnd.google.colaboratory.intrinsic+json": {
              "type": "dataframe",
              "variable_name": "abstracts_df",
              "summary": "{\n  \"name\": \"abstracts_df\",\n  \"rows\": 14330,\n  \"fields\": [\n    {\n      \"column\": \"doc_id\",\n      \"properties\": {\n        \"dtype\": \"number\",\n        \"std\": 4136,\n        \"min\": 1,\n        \"max\": 14330,\n        \"num_unique_values\": 14330,\n        \"samples\": [\n          1329,\n          750,\n          10874\n        ],\n        \"semantic_type\": \"\",\n        \"description\": \"\"\n      }\n    },\n    {\n      \"column\": \"title\",\n      \"properties\": {\n        \"dtype\": \"string\",\n        \"num_unique_values\": 10689,\n        \"samples\": [\n          \"Intracranial Injection of Dengue Virus Induces Interferon Stimulated Genes and CD8(+) T Cell Infiltration by Sphingosine Kinase 1 Independent Pathways\",\n          \"Severe fever with thrombocytopenia syndrome (SFTS) treated with a novel antiviral medication, favipiravir (T-705)\",\n          \"Subclinical in utero Zika virus infection is associated with interferon alpha sequelae and sex-specific molecular brain pathology in asymptomatic porcine offspring\"\n        ],\n        \"semantic_type\": \"\",\n        \"description\": \"\"\n      }\n    },\n    {\n      \"column\": \"abstract\",\n      \"properties\": {\n        \"dtype\": \"string\",\n        \"num_unique_values\": 14320,\n        \"samples\": [\n          \"\\n\\nThis study, \\u2018855 Double Blind Placebo Controlled Food Challenge Useful to Disconfirm Over Estimated Diagnosis of CMP in Children\\u2019, aims to evaluate the utility of double blind placebo controlled food challenge (DBPCFC) as an effective diagnostic method for over-estimated diagnosis of cow's milk protein allergy (CMPA). CMPA is a common health concern among children who often suffer from gastrointestinal and systemic symptoms. Due to its symptom similarity with other pathologies, misdiagnoses using traditional IgE testing occurs more frequently than desirable that leads to unnecessary diet avoidance or therapeutic measures with potential risks. The objective was to analyse and assess if DBPCFC can be used to reduce such rate through systematic reviews up until 2020. We reviewed 855 studies from 3 scientific databases which included authors/participants aged 0\\u201318 years old already clinically diagnosed with CMPA showing positive result for IgE screening tests; our qualitative analyses demonstrated that after applying DBPCFC most participants showed negative results during test confirming inaccurate original diagnosis on patients group; this alleviate a high social pressure due incorrect prescribed diets avoiding healthy sources of nutrition potentially leading further complications needed prevented. Our research strongly affirms that DBPCFC could represent a valuable modality reducing proportionate errors due probability coincidence between clinican history, physical examination along laboratory test when facing CMPA suspicious.\",\n          \"PURPOSE OF REVIEW: This review examines the delivery of rehabilitation care to cancer patients with relation to disease prognosis. This includes the evaluation when patients are referred for rehabilitation services and the effectiveness of rehabilitation interventions across the cancer continuum. RECENT FINDINGS: Although prognosticating life expectancy is difficult, referrals for rehabilitation interventions appear to be affected by physician attitudes towards patients with advanced disease, in part because of misconceptions about the nature of rehabilitation for oncology patients. Rehabilitation may also be underutilized in long-term survivors with no evidence of disease. Despite this, our review found that rehabilitation in advanced disease, end-of-life, geriatric cancer patients, and in long-term survivors can be beneficial. There is a relative dearth in studies on rehabilitation interventions specifically at the end-of-life. SUMMARY: Cancer rehabilitation can be helpful to patients along the spectrum of cancer prognoses. Examining more accurate ways to prognosticate life expectancy, improving communication and education between oncologists and rehabilitation team members, and modifying survivorship plans to include patient education on functional changes over time may improve the delivery of rehabilitation care.\",\n          \"\\n\\nThis article presents a cross-sectional study to examine the associations between objectively measured body composition, sleep parameters and physical activity in preschool children. The present research used digital health technology devices such as accelerometers, skinfold calipers and bedside monitors to measure these variables among 256 preschool children (aged 4-6 years) from three different countries - USA, UK and China. Using multivariable regression models, analyses were performed to investigate how body composition influenced sleep duration/quality as well as associations between physical activity and sleep patterns in this age group of preschoolers. Results illustrate that higher levels of fat mass are associated with reduced average 24-hour sleep duration; evidence was also found for a positive correlation between heightened physical activity during afternoons/evenings versus more restful night time sleep quality. In conclusion, this investigation suggests that effective management of physical activity levels in combination with healthy sleeping habits could be useful in preventing metabolic complications related to excessive body fat deposition during early childhood development stages.\"\n        ],\n        \"semantic_type\": \"\",\n        \"description\": \"\"\n      }\n    },\n    {\n      \"column\": \"label\",\n      \"properties\": {\n        \"dtype\": \"number\",\n        \"std\": 0,\n        \"min\": 0,\n        \"max\": 1,\n        \"num_unique_values\": 2,\n        \"samples\": [\n          0,\n          1\n        ],\n        \"semantic_type\": \"\",\n        \"description\": \"\"\n      }\n    }\n  ]\n}"
            }
          },
          "metadata": {},
          "execution_count": 3
        }
      ],
      "source": [
        "abstracts_df = pd.read_csv(\"https://raw.githubusercontent.com/elhamod/BA820/main/Assignment/Assignment2/ai-ga-dataset.csv\")\n",
        "abstracts_df.head()"
      ]
    },
    {
      "cell_type": "code",
      "source": [
        "abstracts_df"
      ],
      "metadata": {
        "colab": {
          "base_uri": "https://localhost:8080/",
          "height": 424
        },
        "id": "jUVVusDxrSL5",
        "outputId": "4da07dd2-b24e-4d7b-f317-7c59c527a5ad"
      },
      "id": "jUVVusDxrSL5",
      "execution_count": null,
      "outputs": [
        {
          "output_type": "execute_result",
          "data": {
            "text/plain": [
              "       doc_id                                              title  \\\n",
              "0           1  Exaggerated Autophagy in Stanford Type A Aorti...   \n",
              "1           2               ABO blood types and sepsis mortality   \n",
              "2           3  AAV8-Mediated Angiotensin-Converting Enzyme 2 ...   \n",
              "3           4  MyCare study: protocol for a controlled trial ...   \n",
              "4           5  Exploring collective emotion transmission in f...   \n",
              "...       ...                                                ...   \n",
              "14325   14326  Social marketing interventions to promote phys...   \n",
              "14326   14327  Ganoderic acid A is the effective ingredient o...   \n",
              "14327   14328  Variability of contact process in complex netw...   \n",
              "14328   14329  Phospholipase A(2) in skin biology: new insigh...   \n",
              "14329   14330  Determinants and Drivers of Infectious Disease...   \n",
              "\n",
              "                                                abstract  label  \n",
              "0      \\n\\nThis study presents a novel transcriptome ...      1  \n",
              "1      \\n\\nThe ABO blood types have been associated w...      1  \n",
              "2      \\n\\nTitle: AAV8-Mediated Angiotensin-Convertin...      1  \n",
              "3      INTRODUCTION: People with serious mental illne...      0  \n",
              "4      Collective emotion is the synchronous converge...      0  \n",
              "...                                                  ...    ...  \n",
              "14325  BACKGROUND: Falls are a significant source of ...      0  \n",
              "14326  Autosomal dominant polycystic kidney disease (...      0  \n",
              "14327  We study numerically how the structures of dis...      0  \n",
              "14328  \\n\\nThis paper aims to elucidate the role of P...      1  \n",
              "14329  Infectious disease threat events (IDTEs) are i...      0  \n",
              "\n",
              "[14330 rows x 4 columns]"
            ],
            "text/html": [
              "\n",
              "  <div id=\"df-12ba5a63-7312-49df-aa77-b8b89acd8d5e\" class=\"colab-df-container\">\n",
              "    <div>\n",
              "<style scoped>\n",
              "    .dataframe tbody tr th:only-of-type {\n",
              "        vertical-align: middle;\n",
              "    }\n",
              "\n",
              "    .dataframe tbody tr th {\n",
              "        vertical-align: top;\n",
              "    }\n",
              "\n",
              "    .dataframe thead th {\n",
              "        text-align: right;\n",
              "    }\n",
              "</style>\n",
              "<table border=\"1\" class=\"dataframe\">\n",
              "  <thead>\n",
              "    <tr style=\"text-align: right;\">\n",
              "      <th></th>\n",
              "      <th>doc_id</th>\n",
              "      <th>title</th>\n",
              "      <th>abstract</th>\n",
              "      <th>label</th>\n",
              "    </tr>\n",
              "  </thead>\n",
              "  <tbody>\n",
              "    <tr>\n",
              "      <th>0</th>\n",
              "      <td>1</td>\n",
              "      <td>Exaggerated Autophagy in Stanford Type A Aorti...</td>\n",
              "      <td>\\n\\nThis study presents a novel transcriptome ...</td>\n",
              "      <td>1</td>\n",
              "    </tr>\n",
              "    <tr>\n",
              "      <th>1</th>\n",
              "      <td>2</td>\n",
              "      <td>ABO blood types and sepsis mortality</td>\n",
              "      <td>\\n\\nThe ABO blood types have been associated w...</td>\n",
              "      <td>1</td>\n",
              "    </tr>\n",
              "    <tr>\n",
              "      <th>2</th>\n",
              "      <td>3</td>\n",
              "      <td>AAV8-Mediated Angiotensin-Converting Enzyme 2 ...</td>\n",
              "      <td>\\n\\nTitle: AAV8-Mediated Angiotensin-Convertin...</td>\n",
              "      <td>1</td>\n",
              "    </tr>\n",
              "    <tr>\n",
              "      <th>3</th>\n",
              "      <td>4</td>\n",
              "      <td>MyCare study: protocol for a controlled trial ...</td>\n",
              "      <td>INTRODUCTION: People with serious mental illne...</td>\n",
              "      <td>0</td>\n",
              "    </tr>\n",
              "    <tr>\n",
              "      <th>4</th>\n",
              "      <td>5</td>\n",
              "      <td>Exploring collective emotion transmission in f...</td>\n",
              "      <td>Collective emotion is the synchronous converge...</td>\n",
              "      <td>0</td>\n",
              "    </tr>\n",
              "    <tr>\n",
              "      <th>...</th>\n",
              "      <td>...</td>\n",
              "      <td>...</td>\n",
              "      <td>...</td>\n",
              "      <td>...</td>\n",
              "    </tr>\n",
              "    <tr>\n",
              "      <th>14325</th>\n",
              "      <td>14326</td>\n",
              "      <td>Social marketing interventions to promote phys...</td>\n",
              "      <td>BACKGROUND: Falls are a significant source of ...</td>\n",
              "      <td>0</td>\n",
              "    </tr>\n",
              "    <tr>\n",
              "      <th>14326</th>\n",
              "      <td>14327</td>\n",
              "      <td>Ganoderic acid A is the effective ingredient o...</td>\n",
              "      <td>Autosomal dominant polycystic kidney disease (...</td>\n",
              "      <td>0</td>\n",
              "    </tr>\n",
              "    <tr>\n",
              "      <th>14327</th>\n",
              "      <td>14328</td>\n",
              "      <td>Variability of contact process in complex netw...</td>\n",
              "      <td>We study numerically how the structures of dis...</td>\n",
              "      <td>0</td>\n",
              "    </tr>\n",
              "    <tr>\n",
              "      <th>14328</th>\n",
              "      <td>14329</td>\n",
              "      <td>Phospholipase A(2) in skin biology: new insigh...</td>\n",
              "      <td>\\n\\nThis paper aims to elucidate the role of P...</td>\n",
              "      <td>1</td>\n",
              "    </tr>\n",
              "    <tr>\n",
              "      <th>14329</th>\n",
              "      <td>14330</td>\n",
              "      <td>Determinants and Drivers of Infectious Disease...</td>\n",
              "      <td>Infectious disease threat events (IDTEs) are i...</td>\n",
              "      <td>0</td>\n",
              "    </tr>\n",
              "  </tbody>\n",
              "</table>\n",
              "<p>14330 rows × 4 columns</p>\n",
              "</div>\n",
              "    <div class=\"colab-df-buttons\">\n",
              "\n",
              "  <div class=\"colab-df-container\">\n",
              "    <button class=\"colab-df-convert\" onclick=\"convertToInteractive('df-12ba5a63-7312-49df-aa77-b8b89acd8d5e')\"\n",
              "            title=\"Convert this dataframe to an interactive table.\"\n",
              "            style=\"display:none;\">\n",
              "\n",
              "  <svg xmlns=\"http://www.w3.org/2000/svg\" height=\"24px\" viewBox=\"0 -960 960 960\">\n",
              "    <path d=\"M120-120v-720h720v720H120Zm60-500h600v-160H180v160Zm220 220h160v-160H400v160Zm0 220h160v-160H400v160ZM180-400h160v-160H180v160Zm440 0h160v-160H620v160ZM180-180h160v-160H180v160Zm440 0h160v-160H620v160Z\"/>\n",
              "  </svg>\n",
              "    </button>\n",
              "\n",
              "  <style>\n",
              "    .colab-df-container {\n",
              "      display:flex;\n",
              "      gap: 12px;\n",
              "    }\n",
              "\n",
              "    .colab-df-convert {\n",
              "      background-color: #E8F0FE;\n",
              "      border: none;\n",
              "      border-radius: 50%;\n",
              "      cursor: pointer;\n",
              "      display: none;\n",
              "      fill: #1967D2;\n",
              "      height: 32px;\n",
              "      padding: 0 0 0 0;\n",
              "      width: 32px;\n",
              "    }\n",
              "\n",
              "    .colab-df-convert:hover {\n",
              "      background-color: #E2EBFA;\n",
              "      box-shadow: 0px 1px 2px rgba(60, 64, 67, 0.3), 0px 1px 3px 1px rgba(60, 64, 67, 0.15);\n",
              "      fill: #174EA6;\n",
              "    }\n",
              "\n",
              "    .colab-df-buttons div {\n",
              "      margin-bottom: 4px;\n",
              "    }\n",
              "\n",
              "    [theme=dark] .colab-df-convert {\n",
              "      background-color: #3B4455;\n",
              "      fill: #D2E3FC;\n",
              "    }\n",
              "\n",
              "    [theme=dark] .colab-df-convert:hover {\n",
              "      background-color: #434B5C;\n",
              "      box-shadow: 0px 1px 3px 1px rgba(0, 0, 0, 0.15);\n",
              "      filter: drop-shadow(0px 1px 2px rgba(0, 0, 0, 0.3));\n",
              "      fill: #FFFFFF;\n",
              "    }\n",
              "  </style>\n",
              "\n",
              "    <script>\n",
              "      const buttonEl =\n",
              "        document.querySelector('#df-12ba5a63-7312-49df-aa77-b8b89acd8d5e button.colab-df-convert');\n",
              "      buttonEl.style.display =\n",
              "        google.colab.kernel.accessAllowed ? 'block' : 'none';\n",
              "\n",
              "      async function convertToInteractive(key) {\n",
              "        const element = document.querySelector('#df-12ba5a63-7312-49df-aa77-b8b89acd8d5e');\n",
              "        const dataTable =\n",
              "          await google.colab.kernel.invokeFunction('convertToInteractive',\n",
              "                                                    [key], {});\n",
              "        if (!dataTable) return;\n",
              "\n",
              "        const docLinkHtml = 'Like what you see? Visit the ' +\n",
              "          '<a target=\"_blank\" href=https://colab.research.google.com/notebooks/data_table.ipynb>data table notebook</a>'\n",
              "          + ' to learn more about interactive tables.';\n",
              "        element.innerHTML = '';\n",
              "        dataTable['output_type'] = 'display_data';\n",
              "        await google.colab.output.renderOutput(dataTable, element);\n",
              "        const docLink = document.createElement('div');\n",
              "        docLink.innerHTML = docLinkHtml;\n",
              "        element.appendChild(docLink);\n",
              "      }\n",
              "    </script>\n",
              "  </div>\n",
              "\n",
              "\n",
              "<div id=\"df-34b756d0-3361-40ca-bc14-c9146dc8d7cc\">\n",
              "  <button class=\"colab-df-quickchart\" onclick=\"quickchart('df-34b756d0-3361-40ca-bc14-c9146dc8d7cc')\"\n",
              "            title=\"Suggest charts\"\n",
              "            style=\"display:none;\">\n",
              "\n",
              "<svg xmlns=\"http://www.w3.org/2000/svg\" height=\"24px\"viewBox=\"0 0 24 24\"\n",
              "     width=\"24px\">\n",
              "    <g>\n",
              "        <path d=\"M19 3H5c-1.1 0-2 .9-2 2v14c0 1.1.9 2 2 2h14c1.1 0 2-.9 2-2V5c0-1.1-.9-2-2-2zM9 17H7v-7h2v7zm4 0h-2V7h2v10zm4 0h-2v-4h2v4z\"/>\n",
              "    </g>\n",
              "</svg>\n",
              "  </button>\n",
              "\n",
              "<style>\n",
              "  .colab-df-quickchart {\n",
              "      --bg-color: #E8F0FE;\n",
              "      --fill-color: #1967D2;\n",
              "      --hover-bg-color: #E2EBFA;\n",
              "      --hover-fill-color: #174EA6;\n",
              "      --disabled-fill-color: #AAA;\n",
              "      --disabled-bg-color: #DDD;\n",
              "  }\n",
              "\n",
              "  [theme=dark] .colab-df-quickchart {\n",
              "      --bg-color: #3B4455;\n",
              "      --fill-color: #D2E3FC;\n",
              "      --hover-bg-color: #434B5C;\n",
              "      --hover-fill-color: #FFFFFF;\n",
              "      --disabled-bg-color: #3B4455;\n",
              "      --disabled-fill-color: #666;\n",
              "  }\n",
              "\n",
              "  .colab-df-quickchart {\n",
              "    background-color: var(--bg-color);\n",
              "    border: none;\n",
              "    border-radius: 50%;\n",
              "    cursor: pointer;\n",
              "    display: none;\n",
              "    fill: var(--fill-color);\n",
              "    height: 32px;\n",
              "    padding: 0;\n",
              "    width: 32px;\n",
              "  }\n",
              "\n",
              "  .colab-df-quickchart:hover {\n",
              "    background-color: var(--hover-bg-color);\n",
              "    box-shadow: 0 1px 2px rgba(60, 64, 67, 0.3), 0 1px 3px 1px rgba(60, 64, 67, 0.15);\n",
              "    fill: var(--button-hover-fill-color);\n",
              "  }\n",
              "\n",
              "  .colab-df-quickchart-complete:disabled,\n",
              "  .colab-df-quickchart-complete:disabled:hover {\n",
              "    background-color: var(--disabled-bg-color);\n",
              "    fill: var(--disabled-fill-color);\n",
              "    box-shadow: none;\n",
              "  }\n",
              "\n",
              "  .colab-df-spinner {\n",
              "    border: 2px solid var(--fill-color);\n",
              "    border-color: transparent;\n",
              "    border-bottom-color: var(--fill-color);\n",
              "    animation:\n",
              "      spin 1s steps(1) infinite;\n",
              "  }\n",
              "\n",
              "  @keyframes spin {\n",
              "    0% {\n",
              "      border-color: transparent;\n",
              "      border-bottom-color: var(--fill-color);\n",
              "      border-left-color: var(--fill-color);\n",
              "    }\n",
              "    20% {\n",
              "      border-color: transparent;\n",
              "      border-left-color: var(--fill-color);\n",
              "      border-top-color: var(--fill-color);\n",
              "    }\n",
              "    30% {\n",
              "      border-color: transparent;\n",
              "      border-left-color: var(--fill-color);\n",
              "      border-top-color: var(--fill-color);\n",
              "      border-right-color: var(--fill-color);\n",
              "    }\n",
              "    40% {\n",
              "      border-color: transparent;\n",
              "      border-right-color: var(--fill-color);\n",
              "      border-top-color: var(--fill-color);\n",
              "    }\n",
              "    60% {\n",
              "      border-color: transparent;\n",
              "      border-right-color: var(--fill-color);\n",
              "    }\n",
              "    80% {\n",
              "      border-color: transparent;\n",
              "      border-right-color: var(--fill-color);\n",
              "      border-bottom-color: var(--fill-color);\n",
              "    }\n",
              "    90% {\n",
              "      border-color: transparent;\n",
              "      border-bottom-color: var(--fill-color);\n",
              "    }\n",
              "  }\n",
              "</style>\n",
              "\n",
              "  <script>\n",
              "    async function quickchart(key) {\n",
              "      const quickchartButtonEl =\n",
              "        document.querySelector('#' + key + ' button');\n",
              "      quickchartButtonEl.disabled = true;  // To prevent multiple clicks.\n",
              "      quickchartButtonEl.classList.add('colab-df-spinner');\n",
              "      try {\n",
              "        const charts = await google.colab.kernel.invokeFunction(\n",
              "            'suggestCharts', [key], {});\n",
              "      } catch (error) {\n",
              "        console.error('Error during call to suggestCharts:', error);\n",
              "      }\n",
              "      quickchartButtonEl.classList.remove('colab-df-spinner');\n",
              "      quickchartButtonEl.classList.add('colab-df-quickchart-complete');\n",
              "    }\n",
              "    (() => {\n",
              "      let quickchartButtonEl =\n",
              "        document.querySelector('#df-34b756d0-3361-40ca-bc14-c9146dc8d7cc button');\n",
              "      quickchartButtonEl.style.display =\n",
              "        google.colab.kernel.accessAllowed ? 'block' : 'none';\n",
              "    })();\n",
              "  </script>\n",
              "</div>\n",
              "    </div>\n",
              "  </div>\n"
            ],
            "application/vnd.google.colaboratory.intrinsic+json": {
              "type": "dataframe",
              "variable_name": "abstracts_df",
              "summary": "{\n  \"name\": \"abstracts_df\",\n  \"rows\": 14330,\n  \"fields\": [\n    {\n      \"column\": \"doc_id\",\n      \"properties\": {\n        \"dtype\": \"number\",\n        \"std\": 4136,\n        \"min\": 1,\n        \"max\": 14330,\n        \"num_unique_values\": 14330,\n        \"samples\": [\n          1329,\n          750,\n          10874\n        ],\n        \"semantic_type\": \"\",\n        \"description\": \"\"\n      }\n    },\n    {\n      \"column\": \"title\",\n      \"properties\": {\n        \"dtype\": \"string\",\n        \"num_unique_values\": 10689,\n        \"samples\": [\n          \"Intracranial Injection of Dengue Virus Induces Interferon Stimulated Genes and CD8(+) T Cell Infiltration by Sphingosine Kinase 1 Independent Pathways\",\n          \"Severe fever with thrombocytopenia syndrome (SFTS) treated with a novel antiviral medication, favipiravir (T-705)\",\n          \"Subclinical in utero Zika virus infection is associated with interferon alpha sequelae and sex-specific molecular brain pathology in asymptomatic porcine offspring\"\n        ],\n        \"semantic_type\": \"\",\n        \"description\": \"\"\n      }\n    },\n    {\n      \"column\": \"abstract\",\n      \"properties\": {\n        \"dtype\": \"string\",\n        \"num_unique_values\": 14320,\n        \"samples\": [\n          \"\\n\\nThis study, \\u2018855 Double Blind Placebo Controlled Food Challenge Useful to Disconfirm Over Estimated Diagnosis of CMP in Children\\u2019, aims to evaluate the utility of double blind placebo controlled food challenge (DBPCFC) as an effective diagnostic method for over-estimated diagnosis of cow's milk protein allergy (CMPA). CMPA is a common health concern among children who often suffer from gastrointestinal and systemic symptoms. Due to its symptom similarity with other pathologies, misdiagnoses using traditional IgE testing occurs more frequently than desirable that leads to unnecessary diet avoidance or therapeutic measures with potential risks. The objective was to analyse and assess if DBPCFC can be used to reduce such rate through systematic reviews up until 2020. We reviewed 855 studies from 3 scientific databases which included authors/participants aged 0\\u201318 years old already clinically diagnosed with CMPA showing positive result for IgE screening tests; our qualitative analyses demonstrated that after applying DBPCFC most participants showed negative results during test confirming inaccurate original diagnosis on patients group; this alleviate a high social pressure due incorrect prescribed diets avoiding healthy sources of nutrition potentially leading further complications needed prevented. Our research strongly affirms that DBPCFC could represent a valuable modality reducing proportionate errors due probability coincidence between clinican history, physical examination along laboratory test when facing CMPA suspicious.\",\n          \"PURPOSE OF REVIEW: This review examines the delivery of rehabilitation care to cancer patients with relation to disease prognosis. This includes the evaluation when patients are referred for rehabilitation services and the effectiveness of rehabilitation interventions across the cancer continuum. RECENT FINDINGS: Although prognosticating life expectancy is difficult, referrals for rehabilitation interventions appear to be affected by physician attitudes towards patients with advanced disease, in part because of misconceptions about the nature of rehabilitation for oncology patients. Rehabilitation may also be underutilized in long-term survivors with no evidence of disease. Despite this, our review found that rehabilitation in advanced disease, end-of-life, geriatric cancer patients, and in long-term survivors can be beneficial. There is a relative dearth in studies on rehabilitation interventions specifically at the end-of-life. SUMMARY: Cancer rehabilitation can be helpful to patients along the spectrum of cancer prognoses. Examining more accurate ways to prognosticate life expectancy, improving communication and education between oncologists and rehabilitation team members, and modifying survivorship plans to include patient education on functional changes over time may improve the delivery of rehabilitation care.\",\n          \"\\n\\nThis article presents a cross-sectional study to examine the associations between objectively measured body composition, sleep parameters and physical activity in preschool children. The present research used digital health technology devices such as accelerometers, skinfold calipers and bedside monitors to measure these variables among 256 preschool children (aged 4-6 years) from three different countries - USA, UK and China. Using multivariable regression models, analyses were performed to investigate how body composition influenced sleep duration/quality as well as associations between physical activity and sleep patterns in this age group of preschoolers. Results illustrate that higher levels of fat mass are associated with reduced average 24-hour sleep duration; evidence was also found for a positive correlation between heightened physical activity during afternoons/evenings versus more restful night time sleep quality. In conclusion, this investigation suggests that effective management of physical activity levels in combination with healthy sleeping habits could be useful in preventing metabolic complications related to excessive body fat deposition during early childhood development stages.\"\n        ],\n        \"semantic_type\": \"\",\n        \"description\": \"\"\n      }\n    },\n    {\n      \"column\": \"label\",\n      \"properties\": {\n        \"dtype\": \"number\",\n        \"std\": 0,\n        \"min\": 0,\n        \"max\": 1,\n        \"num_unique_values\": 2,\n        \"samples\": [\n          0,\n          1\n        ],\n        \"semantic_type\": \"\",\n        \"description\": \"\"\n      }\n    }\n  ]\n}"
            }
          },
          "metadata": {},
          "execution_count": 4
        }
      ]
    },
    {
      "cell_type": "markdown",
      "source": [
        "##Inspection:\n",
        "\n",
        "**Maximum marks: 5**\n",
        "\n",
        "- Print the number of abstracts that are human or AI generated, respectively.\n",
        "- Check if any abstracts have invalid values. Address them appropriately.\n",
        "- Check if any labels have invalid values. Address them appropriately"
      ],
      "metadata": {
        "id": "Qg8N6QYTeVYd"
      },
      "id": "Qg8N6QYTeVYd"
    },
    {
      "cell_type": "code",
      "execution_count": null,
      "id": "c4194f01-f166-4ea0-a2e2-ff089e90bed9",
      "metadata": {
        "id": "c4194f01-f166-4ea0-a2e2-ff089e90bed9",
        "colab": {
          "base_uri": "https://localhost:8080/"
        },
        "outputId": "2da8cb7c-99c4-4c1d-d729-a59149db3569"
      },
      "outputs": [
        {
          "output_type": "execute_result",
          "data": {
            "text/plain": [
              "1    7248\n",
              "0    7082\n",
              "Name: label, dtype: int64"
            ]
          },
          "metadata": {},
          "execution_count": 5
        }
      ],
      "source": [
        "abstracts_df['label'].value_counts()"
      ]
    },
    {
      "cell_type": "code",
      "source": [
        "abstracts_df.info()"
      ],
      "metadata": {
        "colab": {
          "base_uri": "https://localhost:8080/"
        },
        "id": "UBQzln0Ap6P6",
        "outputId": "f8ce9672-4cb3-44b3-98b4-e7cdbaeb1830"
      },
      "id": "UBQzln0Ap6P6",
      "execution_count": null,
      "outputs": [
        {
          "output_type": "stream",
          "name": "stdout",
          "text": [
            "<class 'pandas.core.frame.DataFrame'>\n",
            "RangeIndex: 14330 entries, 0 to 14329\n",
            "Data columns (total 4 columns):\n",
            " #   Column    Non-Null Count  Dtype \n",
            "---  ------    --------------  ----- \n",
            " 0   doc_id    14330 non-null  int64 \n",
            " 1   title     14330 non-null  object\n",
            " 2   abstract  14330 non-null  object\n",
            " 3   label     14330 non-null  int64 \n",
            "dtypes: int64(2), object(2)\n",
            "memory usage: 447.9+ KB\n"
          ]
        }
      ]
    },
    {
      "cell_type": "code",
      "source": [
        "abstracts_df['abstract'].isnull().value_counts()"
      ],
      "metadata": {
        "colab": {
          "base_uri": "https://localhost:8080/"
        },
        "id": "C2ADuzlOt5Rn",
        "outputId": "70d0f776-de62-4081-efae-f3b87a5c18de"
      },
      "id": "C2ADuzlOt5Rn",
      "execution_count": null,
      "outputs": [
        {
          "output_type": "execute_result",
          "data": {
            "text/plain": [
              "False    14330\n",
              "Name: abstract, dtype: int64"
            ]
          },
          "metadata": {},
          "execution_count": 7
        }
      ]
    },
    {
      "cell_type": "code",
      "source": [
        "abstracts_df['label'].isnull().value_counts()"
      ],
      "metadata": {
        "colab": {
          "base_uri": "https://localhost:8080/"
        },
        "id": "yE2Lp_wet9QK",
        "outputId": "7f8ab2d2-8448-4035-caee-214d53647521"
      },
      "id": "yE2Lp_wet9QK",
      "execution_count": null,
      "outputs": [
        {
          "output_type": "execute_result",
          "data": {
            "text/plain": [
              "False    14330\n",
              "Name: label, dtype: int64"
            ]
          },
          "metadata": {},
          "execution_count": 8
        }
      ]
    },
    {
      "cell_type": "code",
      "source": [
        "abstracts_df['abstract'].nunique()"
      ],
      "metadata": {
        "colab": {
          "base_uri": "https://localhost:8080/"
        },
        "id": "BZytl6Q7qcOg",
        "outputId": "7d04d871-d7f4-464d-fa1b-31340c231c5d"
      },
      "id": "BZytl6Q7qcOg",
      "execution_count": null,
      "outputs": [
        {
          "output_type": "execute_result",
          "data": {
            "text/plain": [
              "14320"
            ]
          },
          "metadata": {},
          "execution_count": 9
        }
      ]
    },
    {
      "cell_type": "code",
      "source": [
        "abstracts_df['label'].nunique()"
      ],
      "metadata": {
        "colab": {
          "base_uri": "https://localhost:8080/"
        },
        "id": "_Q_S2GZBrcvB",
        "outputId": "c3267fce-a227-4c62-b22e-8423653ff5eb"
      },
      "id": "_Q_S2GZBrcvB",
      "execution_count": null,
      "outputs": [
        {
          "output_type": "execute_result",
          "data": {
            "text/plain": [
              "2"
            ]
          },
          "metadata": {},
          "execution_count": 10
        }
      ]
    },
    {
      "cell_type": "markdown",
      "source": [
        "**Answer**:\n",
        "1. The number of abstracts that are human is 7,082. The number of abstracts that are AI generated is 7,248.\n",
        "2. There are no invalid values in either the labels or abstracts, so there's no need for me to handle them."
      ],
      "metadata": {
        "id": "zW7QnVdysYvQ"
      },
      "id": "zW7QnVdysYvQ"
    },
    {
      "cell_type": "markdown",
      "id": "48b0f12f-453e-4e1d-bdda-6da7ffa7f88b",
      "metadata": {
        "id": "48b0f12f-453e-4e1d-bdda-6da7ffa7f88b"
      },
      "source": [
        "#Pre-processing"
      ]
    },
    {
      "cell_type": "markdown",
      "source": [
        "##Question 1.1: text cleaning\n",
        "\n",
        "**Maximum marks: 5**\n",
        "\n",
        "Perform pre-processing on all abstracts by lower-casing and removing all non-alpha-numeric characters (i.e., only keep numbers, English alphabet letters, and white spaces)."
      ],
      "metadata": {
        "id": "lsKMgZblrttY"
      },
      "id": "lsKMgZblrttY"
    },
    {
      "cell_type": "code",
      "execution_count": null,
      "id": "96a6872c-dffc-4e58-9f74-d1c8f566f85d",
      "metadata": {
        "tags": [],
        "id": "96a6872c-dffc-4e58-9f74-d1c8f566f85d",
        "colab": {
          "base_uri": "https://localhost:8080/",
          "height": 424
        },
        "outputId": "7ac76e9a-9758-443a-fe59-457bd141425a"
      },
      "outputs": [
        {
          "output_type": "execute_result",
          "data": {
            "text/plain": [
              "       doc_id                                              title  \\\n",
              "0           1  Exaggerated Autophagy in Stanford Type A Aorti...   \n",
              "1           2               ABO blood types and sepsis mortality   \n",
              "2           3  AAV8-Mediated Angiotensin-Converting Enzyme 2 ...   \n",
              "3           4  MyCare study: protocol for a controlled trial ...   \n",
              "4           5  Exploring collective emotion transmission in f...   \n",
              "...       ...                                                ...   \n",
              "14325   14326  Social marketing interventions to promote phys...   \n",
              "14326   14327  Ganoderic acid A is the effective ingredient o...   \n",
              "14327   14328  Variability of contact process in complex netw...   \n",
              "14328   14329  Phospholipase A(2) in skin biology: new insigh...   \n",
              "14329   14330  Determinants and Drivers of Infectious Disease...   \n",
              "\n",
              "                                                abstract  label  \n",
              "0      \\n\\nthis study presents a novel transcriptome ...      1  \n",
              "1      \\n\\nthe abo blood types have been associated w...      1  \n",
              "2      \\n\\ntitle: aav8-mediated angiotensin-convertin...      1  \n",
              "3      introduction: people with serious mental illne...      0  \n",
              "4      collective emotion is the synchronous converge...      0  \n",
              "...                                                  ...    ...  \n",
              "14325  background: falls are a significant source of ...      0  \n",
              "14326  autosomal dominant polycystic kidney disease (...      0  \n",
              "14327  we study numerically how the structures of dis...      0  \n",
              "14328  \\n\\nthis paper aims to elucidate the role of p...      1  \n",
              "14329  infectious disease threat events (idtes) are i...      0  \n",
              "\n",
              "[14330 rows x 4 columns]"
            ],
            "text/html": [
              "\n",
              "  <div id=\"df-a7cbeb3e-af77-4fff-8e5f-2ceaecece2a5\" class=\"colab-df-container\">\n",
              "    <div>\n",
              "<style scoped>\n",
              "    .dataframe tbody tr th:only-of-type {\n",
              "        vertical-align: middle;\n",
              "    }\n",
              "\n",
              "    .dataframe tbody tr th {\n",
              "        vertical-align: top;\n",
              "    }\n",
              "\n",
              "    .dataframe thead th {\n",
              "        text-align: right;\n",
              "    }\n",
              "</style>\n",
              "<table border=\"1\" class=\"dataframe\">\n",
              "  <thead>\n",
              "    <tr style=\"text-align: right;\">\n",
              "      <th></th>\n",
              "      <th>doc_id</th>\n",
              "      <th>title</th>\n",
              "      <th>abstract</th>\n",
              "      <th>label</th>\n",
              "    </tr>\n",
              "  </thead>\n",
              "  <tbody>\n",
              "    <tr>\n",
              "      <th>0</th>\n",
              "      <td>1</td>\n",
              "      <td>Exaggerated Autophagy in Stanford Type A Aorti...</td>\n",
              "      <td>\\n\\nthis study presents a novel transcriptome ...</td>\n",
              "      <td>1</td>\n",
              "    </tr>\n",
              "    <tr>\n",
              "      <th>1</th>\n",
              "      <td>2</td>\n",
              "      <td>ABO blood types and sepsis mortality</td>\n",
              "      <td>\\n\\nthe abo blood types have been associated w...</td>\n",
              "      <td>1</td>\n",
              "    </tr>\n",
              "    <tr>\n",
              "      <th>2</th>\n",
              "      <td>3</td>\n",
              "      <td>AAV8-Mediated Angiotensin-Converting Enzyme 2 ...</td>\n",
              "      <td>\\n\\ntitle: aav8-mediated angiotensin-convertin...</td>\n",
              "      <td>1</td>\n",
              "    </tr>\n",
              "    <tr>\n",
              "      <th>3</th>\n",
              "      <td>4</td>\n",
              "      <td>MyCare study: protocol for a controlled trial ...</td>\n",
              "      <td>introduction: people with serious mental illne...</td>\n",
              "      <td>0</td>\n",
              "    </tr>\n",
              "    <tr>\n",
              "      <th>4</th>\n",
              "      <td>5</td>\n",
              "      <td>Exploring collective emotion transmission in f...</td>\n",
              "      <td>collective emotion is the synchronous converge...</td>\n",
              "      <td>0</td>\n",
              "    </tr>\n",
              "    <tr>\n",
              "      <th>...</th>\n",
              "      <td>...</td>\n",
              "      <td>...</td>\n",
              "      <td>...</td>\n",
              "      <td>...</td>\n",
              "    </tr>\n",
              "    <tr>\n",
              "      <th>14325</th>\n",
              "      <td>14326</td>\n",
              "      <td>Social marketing interventions to promote phys...</td>\n",
              "      <td>background: falls are a significant source of ...</td>\n",
              "      <td>0</td>\n",
              "    </tr>\n",
              "    <tr>\n",
              "      <th>14326</th>\n",
              "      <td>14327</td>\n",
              "      <td>Ganoderic acid A is the effective ingredient o...</td>\n",
              "      <td>autosomal dominant polycystic kidney disease (...</td>\n",
              "      <td>0</td>\n",
              "    </tr>\n",
              "    <tr>\n",
              "      <th>14327</th>\n",
              "      <td>14328</td>\n",
              "      <td>Variability of contact process in complex netw...</td>\n",
              "      <td>we study numerically how the structures of dis...</td>\n",
              "      <td>0</td>\n",
              "    </tr>\n",
              "    <tr>\n",
              "      <th>14328</th>\n",
              "      <td>14329</td>\n",
              "      <td>Phospholipase A(2) in skin biology: new insigh...</td>\n",
              "      <td>\\n\\nthis paper aims to elucidate the role of p...</td>\n",
              "      <td>1</td>\n",
              "    </tr>\n",
              "    <tr>\n",
              "      <th>14329</th>\n",
              "      <td>14330</td>\n",
              "      <td>Determinants and Drivers of Infectious Disease...</td>\n",
              "      <td>infectious disease threat events (idtes) are i...</td>\n",
              "      <td>0</td>\n",
              "    </tr>\n",
              "  </tbody>\n",
              "</table>\n",
              "<p>14330 rows × 4 columns</p>\n",
              "</div>\n",
              "    <div class=\"colab-df-buttons\">\n",
              "\n",
              "  <div class=\"colab-df-container\">\n",
              "    <button class=\"colab-df-convert\" onclick=\"convertToInteractive('df-a7cbeb3e-af77-4fff-8e5f-2ceaecece2a5')\"\n",
              "            title=\"Convert this dataframe to an interactive table.\"\n",
              "            style=\"display:none;\">\n",
              "\n",
              "  <svg xmlns=\"http://www.w3.org/2000/svg\" height=\"24px\" viewBox=\"0 -960 960 960\">\n",
              "    <path d=\"M120-120v-720h720v720H120Zm60-500h600v-160H180v160Zm220 220h160v-160H400v160Zm0 220h160v-160H400v160ZM180-400h160v-160H180v160Zm440 0h160v-160H620v160ZM180-180h160v-160H180v160Zm440 0h160v-160H620v160Z\"/>\n",
              "  </svg>\n",
              "    </button>\n",
              "\n",
              "  <style>\n",
              "    .colab-df-container {\n",
              "      display:flex;\n",
              "      gap: 12px;\n",
              "    }\n",
              "\n",
              "    .colab-df-convert {\n",
              "      background-color: #E8F0FE;\n",
              "      border: none;\n",
              "      border-radius: 50%;\n",
              "      cursor: pointer;\n",
              "      display: none;\n",
              "      fill: #1967D2;\n",
              "      height: 32px;\n",
              "      padding: 0 0 0 0;\n",
              "      width: 32px;\n",
              "    }\n",
              "\n",
              "    .colab-df-convert:hover {\n",
              "      background-color: #E2EBFA;\n",
              "      box-shadow: 0px 1px 2px rgba(60, 64, 67, 0.3), 0px 1px 3px 1px rgba(60, 64, 67, 0.15);\n",
              "      fill: #174EA6;\n",
              "    }\n",
              "\n",
              "    .colab-df-buttons div {\n",
              "      margin-bottom: 4px;\n",
              "    }\n",
              "\n",
              "    [theme=dark] .colab-df-convert {\n",
              "      background-color: #3B4455;\n",
              "      fill: #D2E3FC;\n",
              "    }\n",
              "\n",
              "    [theme=dark] .colab-df-convert:hover {\n",
              "      background-color: #434B5C;\n",
              "      box-shadow: 0px 1px 3px 1px rgba(0, 0, 0, 0.15);\n",
              "      filter: drop-shadow(0px 1px 2px rgba(0, 0, 0, 0.3));\n",
              "      fill: #FFFFFF;\n",
              "    }\n",
              "  </style>\n",
              "\n",
              "    <script>\n",
              "      const buttonEl =\n",
              "        document.querySelector('#df-a7cbeb3e-af77-4fff-8e5f-2ceaecece2a5 button.colab-df-convert');\n",
              "      buttonEl.style.display =\n",
              "        google.colab.kernel.accessAllowed ? 'block' : 'none';\n",
              "\n",
              "      async function convertToInteractive(key) {\n",
              "        const element = document.querySelector('#df-a7cbeb3e-af77-4fff-8e5f-2ceaecece2a5');\n",
              "        const dataTable =\n",
              "          await google.colab.kernel.invokeFunction('convertToInteractive',\n",
              "                                                    [key], {});\n",
              "        if (!dataTable) return;\n",
              "\n",
              "        const docLinkHtml = 'Like what you see? Visit the ' +\n",
              "          '<a target=\"_blank\" href=https://colab.research.google.com/notebooks/data_table.ipynb>data table notebook</a>'\n",
              "          + ' to learn more about interactive tables.';\n",
              "        element.innerHTML = '';\n",
              "        dataTable['output_type'] = 'display_data';\n",
              "        await google.colab.output.renderOutput(dataTable, element);\n",
              "        const docLink = document.createElement('div');\n",
              "        docLink.innerHTML = docLinkHtml;\n",
              "        element.appendChild(docLink);\n",
              "      }\n",
              "    </script>\n",
              "  </div>\n",
              "\n",
              "\n",
              "<div id=\"df-734dee3b-7ccf-47e4-a652-f0dd2d388cf2\">\n",
              "  <button class=\"colab-df-quickchart\" onclick=\"quickchart('df-734dee3b-7ccf-47e4-a652-f0dd2d388cf2')\"\n",
              "            title=\"Suggest charts\"\n",
              "            style=\"display:none;\">\n",
              "\n",
              "<svg xmlns=\"http://www.w3.org/2000/svg\" height=\"24px\"viewBox=\"0 0 24 24\"\n",
              "     width=\"24px\">\n",
              "    <g>\n",
              "        <path d=\"M19 3H5c-1.1 0-2 .9-2 2v14c0 1.1.9 2 2 2h14c1.1 0 2-.9 2-2V5c0-1.1-.9-2-2-2zM9 17H7v-7h2v7zm4 0h-2V7h2v10zm4 0h-2v-4h2v4z\"/>\n",
              "    </g>\n",
              "</svg>\n",
              "  </button>\n",
              "\n",
              "<style>\n",
              "  .colab-df-quickchart {\n",
              "      --bg-color: #E8F0FE;\n",
              "      --fill-color: #1967D2;\n",
              "      --hover-bg-color: #E2EBFA;\n",
              "      --hover-fill-color: #174EA6;\n",
              "      --disabled-fill-color: #AAA;\n",
              "      --disabled-bg-color: #DDD;\n",
              "  }\n",
              "\n",
              "  [theme=dark] .colab-df-quickchart {\n",
              "      --bg-color: #3B4455;\n",
              "      --fill-color: #D2E3FC;\n",
              "      --hover-bg-color: #434B5C;\n",
              "      --hover-fill-color: #FFFFFF;\n",
              "      --disabled-bg-color: #3B4455;\n",
              "      --disabled-fill-color: #666;\n",
              "  }\n",
              "\n",
              "  .colab-df-quickchart {\n",
              "    background-color: var(--bg-color);\n",
              "    border: none;\n",
              "    border-radius: 50%;\n",
              "    cursor: pointer;\n",
              "    display: none;\n",
              "    fill: var(--fill-color);\n",
              "    height: 32px;\n",
              "    padding: 0;\n",
              "    width: 32px;\n",
              "  }\n",
              "\n",
              "  .colab-df-quickchart:hover {\n",
              "    background-color: var(--hover-bg-color);\n",
              "    box-shadow: 0 1px 2px rgba(60, 64, 67, 0.3), 0 1px 3px 1px rgba(60, 64, 67, 0.15);\n",
              "    fill: var(--button-hover-fill-color);\n",
              "  }\n",
              "\n",
              "  .colab-df-quickchart-complete:disabled,\n",
              "  .colab-df-quickchart-complete:disabled:hover {\n",
              "    background-color: var(--disabled-bg-color);\n",
              "    fill: var(--disabled-fill-color);\n",
              "    box-shadow: none;\n",
              "  }\n",
              "\n",
              "  .colab-df-spinner {\n",
              "    border: 2px solid var(--fill-color);\n",
              "    border-color: transparent;\n",
              "    border-bottom-color: var(--fill-color);\n",
              "    animation:\n",
              "      spin 1s steps(1) infinite;\n",
              "  }\n",
              "\n",
              "  @keyframes spin {\n",
              "    0% {\n",
              "      border-color: transparent;\n",
              "      border-bottom-color: var(--fill-color);\n",
              "      border-left-color: var(--fill-color);\n",
              "    }\n",
              "    20% {\n",
              "      border-color: transparent;\n",
              "      border-left-color: var(--fill-color);\n",
              "      border-top-color: var(--fill-color);\n",
              "    }\n",
              "    30% {\n",
              "      border-color: transparent;\n",
              "      border-left-color: var(--fill-color);\n",
              "      border-top-color: var(--fill-color);\n",
              "      border-right-color: var(--fill-color);\n",
              "    }\n",
              "    40% {\n",
              "      border-color: transparent;\n",
              "      border-right-color: var(--fill-color);\n",
              "      border-top-color: var(--fill-color);\n",
              "    }\n",
              "    60% {\n",
              "      border-color: transparent;\n",
              "      border-right-color: var(--fill-color);\n",
              "    }\n",
              "    80% {\n",
              "      border-color: transparent;\n",
              "      border-right-color: var(--fill-color);\n",
              "      border-bottom-color: var(--fill-color);\n",
              "    }\n",
              "    90% {\n",
              "      border-color: transparent;\n",
              "      border-bottom-color: var(--fill-color);\n",
              "    }\n",
              "  }\n",
              "</style>\n",
              "\n",
              "  <script>\n",
              "    async function quickchart(key) {\n",
              "      const quickchartButtonEl =\n",
              "        document.querySelector('#' + key + ' button');\n",
              "      quickchartButtonEl.disabled = true;  // To prevent multiple clicks.\n",
              "      quickchartButtonEl.classList.add('colab-df-spinner');\n",
              "      try {\n",
              "        const charts = await google.colab.kernel.invokeFunction(\n",
              "            'suggestCharts', [key], {});\n",
              "      } catch (error) {\n",
              "        console.error('Error during call to suggestCharts:', error);\n",
              "      }\n",
              "      quickchartButtonEl.classList.remove('colab-df-spinner');\n",
              "      quickchartButtonEl.classList.add('colab-df-quickchart-complete');\n",
              "    }\n",
              "    (() => {\n",
              "      let quickchartButtonEl =\n",
              "        document.querySelector('#df-734dee3b-7ccf-47e4-a652-f0dd2d388cf2 button');\n",
              "      quickchartButtonEl.style.display =\n",
              "        google.colab.kernel.accessAllowed ? 'block' : 'none';\n",
              "    })();\n",
              "  </script>\n",
              "</div>\n",
              "    </div>\n",
              "  </div>\n"
            ],
            "application/vnd.google.colaboratory.intrinsic+json": {
              "type": "dataframe",
              "variable_name": "abstracts_df",
              "summary": "{\n  \"name\": \"abstracts_df\",\n  \"rows\": 14330,\n  \"fields\": [\n    {\n      \"column\": \"doc_id\",\n      \"properties\": {\n        \"dtype\": \"number\",\n        \"std\": 4136,\n        \"min\": 1,\n        \"max\": 14330,\n        \"num_unique_values\": 14330,\n        \"samples\": [\n          1329,\n          750,\n          10874\n        ],\n        \"semantic_type\": \"\",\n        \"description\": \"\"\n      }\n    },\n    {\n      \"column\": \"title\",\n      \"properties\": {\n        \"dtype\": \"string\",\n        \"num_unique_values\": 10689,\n        \"samples\": [\n          \"Intracranial Injection of Dengue Virus Induces Interferon Stimulated Genes and CD8(+) T Cell Infiltration by Sphingosine Kinase 1 Independent Pathways\",\n          \"Severe fever with thrombocytopenia syndrome (SFTS) treated with a novel antiviral medication, favipiravir (T-705)\",\n          \"Subclinical in utero Zika virus infection is associated with interferon alpha sequelae and sex-specific molecular brain pathology in asymptomatic porcine offspring\"\n        ],\n        \"semantic_type\": \"\",\n        \"description\": \"\"\n      }\n    },\n    {\n      \"column\": \"abstract\",\n      \"properties\": {\n        \"dtype\": \"string\",\n        \"num_unique_values\": 14320,\n        \"samples\": [\n          \"\\n\\nthis study, \\u2018855 double blind placebo controlled food challenge useful to disconfirm over estimated diagnosis of cmp in children\\u2019, aims to evaluate the utility of double blind placebo controlled food challenge (dbpcfc) as an effective diagnostic method for over-estimated diagnosis of cow's milk protein allergy (cmpa). cmpa is a common health concern among children who often suffer from gastrointestinal and systemic symptoms. due to its symptom similarity with other pathologies, misdiagnoses using traditional ige testing occurs more frequently than desirable that leads to unnecessary diet avoidance or therapeutic measures with potential risks. the objective was to analyse and assess if dbpcfc can be used to reduce such rate through systematic reviews up until 2020. we reviewed 855 studies from 3 scientific databases which included authors/participants aged 0\\u201318 years old already clinically diagnosed with cmpa showing positive result for ige screening tests; our qualitative analyses demonstrated that after applying dbpcfc most participants showed negative results during test confirming inaccurate original diagnosis on patients group; this alleviate a high social pressure due incorrect prescribed diets avoiding healthy sources of nutrition potentially leading further complications needed prevented. our research strongly affirms that dbpcfc could represent a valuable modality reducing proportionate errors due probability coincidence between clinican history, physical examination along laboratory test when facing cmpa suspicious.\",\n          \"purpose of review: this review examines the delivery of rehabilitation care to cancer patients with relation to disease prognosis. this includes the evaluation when patients are referred for rehabilitation services and the effectiveness of rehabilitation interventions across the cancer continuum. recent findings: although prognosticating life expectancy is difficult, referrals for rehabilitation interventions appear to be affected by physician attitudes towards patients with advanced disease, in part because of misconceptions about the nature of rehabilitation for oncology patients. rehabilitation may also be underutilized in long-term survivors with no evidence of disease. despite this, our review found that rehabilitation in advanced disease, end-of-life, geriatric cancer patients, and in long-term survivors can be beneficial. there is a relative dearth in studies on rehabilitation interventions specifically at the end-of-life. summary: cancer rehabilitation can be helpful to patients along the spectrum of cancer prognoses. examining more accurate ways to prognosticate life expectancy, improving communication and education between oncologists and rehabilitation team members, and modifying survivorship plans to include patient education on functional changes over time may improve the delivery of rehabilitation care.\",\n          \"\\n\\nthis article presents a cross-sectional study to examine the associations between objectively measured body composition, sleep parameters and physical activity in preschool children. the present research used digital health technology devices such as accelerometers, skinfold calipers and bedside monitors to measure these variables among 256 preschool children (aged 4-6 years) from three different countries - usa, uk and china. using multivariable regression models, analyses were performed to investigate how body composition influenced sleep duration/quality as well as associations between physical activity and sleep patterns in this age group of preschoolers. results illustrate that higher levels of fat mass are associated with reduced average 24-hour sleep duration; evidence was also found for a positive correlation between heightened physical activity during afternoons/evenings versus more restful night time sleep quality. in conclusion, this investigation suggests that effective management of physical activity levels in combination with healthy sleeping habits could be useful in preventing metabolic complications related to excessive body fat deposition during early childhood development stages.\"\n        ],\n        \"semantic_type\": \"\",\n        \"description\": \"\"\n      }\n    },\n    {\n      \"column\": \"label\",\n      \"properties\": {\n        \"dtype\": \"number\",\n        \"std\": 0,\n        \"min\": 0,\n        \"max\": 1,\n        \"num_unique_values\": 2,\n        \"samples\": [\n          0,\n          1\n        ],\n        \"semantic_type\": \"\",\n        \"description\": \"\"\n      }\n    }\n  ]\n}"
            }
          },
          "metadata": {},
          "execution_count": 11
        }
      ],
      "source": [
        "abstracts_df['abstract'] = abstracts_df['abstract'].str.lower()\n",
        "abstracts_df"
      ]
    },
    {
      "cell_type": "code",
      "source": [
        "abstracts_df['abstract'] = abstracts_df['abstract'].str.replace('[^a-zA-Z0-9\\s]+','')\n",
        "#abstracts_df['abstract'] = abstracts_df['abstract'].str.replace('[\\n]','')\n",
        "abstracts_df['abstract'] = abstracts_df['abstract'].str.strip()\n",
        "abstracts_df"
      ],
      "metadata": {
        "colab": {
          "base_uri": "https://localhost:8080/",
          "height": 459
        },
        "id": "0H0IErVfurs2",
        "outputId": "1ebe1dd6-2b9b-412a-a398-25c6bf975319"
      },
      "id": "0H0IErVfurs2",
      "execution_count": null,
      "outputs": [
        {
          "output_type": "stream",
          "name": "stderr",
          "text": [
            "<ipython-input-12-cac1c7430ec0>:1: FutureWarning: The default value of regex will change from True to False in a future version.\n",
            "  abstracts_df['abstract'] = abstracts_df['abstract'].str.replace('[^a-zA-Z0-9\\s]+','')\n"
          ]
        },
        {
          "output_type": "execute_result",
          "data": {
            "text/plain": [
              "       doc_id                                              title  \\\n",
              "0           1  Exaggerated Autophagy in Stanford Type A Aorti...   \n",
              "1           2               ABO blood types and sepsis mortality   \n",
              "2           3  AAV8-Mediated Angiotensin-Converting Enzyme 2 ...   \n",
              "3           4  MyCare study: protocol for a controlled trial ...   \n",
              "4           5  Exploring collective emotion transmission in f...   \n",
              "...       ...                                                ...   \n",
              "14325   14326  Social marketing interventions to promote phys...   \n",
              "14326   14327  Ganoderic acid A is the effective ingredient o...   \n",
              "14327   14328  Variability of contact process in complex netw...   \n",
              "14328   14329  Phospholipase A(2) in skin biology: new insigh...   \n",
              "14329   14330  Determinants and Drivers of Infectious Disease...   \n",
              "\n",
              "                                                abstract  label  \n",
              "0      this study presents a novel transcriptome pilo...      1  \n",
              "1      the abo blood types have been associated with ...      1  \n",
              "2      title aav8mediated angiotensinconverting enzym...      1  \n",
              "3      introduction people with serious mental illnes...      0  \n",
              "4      collective emotion is the synchronous converge...      0  \n",
              "...                                                  ...    ...  \n",
              "14325  background falls are a significant source of m...      0  \n",
              "14326  autosomal dominant polycystic kidney disease a...      0  \n",
              "14327  we study numerically how the structures of dis...      0  \n",
              "14328  this paper aims to elucidate the role of phosp...      1  \n",
              "14329  infectious disease threat events idtes are inc...      0  \n",
              "\n",
              "[14330 rows x 4 columns]"
            ],
            "text/html": [
              "\n",
              "  <div id=\"df-479ddc09-2230-4a86-8f3b-537fc6f6e9ff\" class=\"colab-df-container\">\n",
              "    <div>\n",
              "<style scoped>\n",
              "    .dataframe tbody tr th:only-of-type {\n",
              "        vertical-align: middle;\n",
              "    }\n",
              "\n",
              "    .dataframe tbody tr th {\n",
              "        vertical-align: top;\n",
              "    }\n",
              "\n",
              "    .dataframe thead th {\n",
              "        text-align: right;\n",
              "    }\n",
              "</style>\n",
              "<table border=\"1\" class=\"dataframe\">\n",
              "  <thead>\n",
              "    <tr style=\"text-align: right;\">\n",
              "      <th></th>\n",
              "      <th>doc_id</th>\n",
              "      <th>title</th>\n",
              "      <th>abstract</th>\n",
              "      <th>label</th>\n",
              "    </tr>\n",
              "  </thead>\n",
              "  <tbody>\n",
              "    <tr>\n",
              "      <th>0</th>\n",
              "      <td>1</td>\n",
              "      <td>Exaggerated Autophagy in Stanford Type A Aorti...</td>\n",
              "      <td>this study presents a novel transcriptome pilo...</td>\n",
              "      <td>1</td>\n",
              "    </tr>\n",
              "    <tr>\n",
              "      <th>1</th>\n",
              "      <td>2</td>\n",
              "      <td>ABO blood types and sepsis mortality</td>\n",
              "      <td>the abo blood types have been associated with ...</td>\n",
              "      <td>1</td>\n",
              "    </tr>\n",
              "    <tr>\n",
              "      <th>2</th>\n",
              "      <td>3</td>\n",
              "      <td>AAV8-Mediated Angiotensin-Converting Enzyme 2 ...</td>\n",
              "      <td>title aav8mediated angiotensinconverting enzym...</td>\n",
              "      <td>1</td>\n",
              "    </tr>\n",
              "    <tr>\n",
              "      <th>3</th>\n",
              "      <td>4</td>\n",
              "      <td>MyCare study: protocol for a controlled trial ...</td>\n",
              "      <td>introduction people with serious mental illnes...</td>\n",
              "      <td>0</td>\n",
              "    </tr>\n",
              "    <tr>\n",
              "      <th>4</th>\n",
              "      <td>5</td>\n",
              "      <td>Exploring collective emotion transmission in f...</td>\n",
              "      <td>collective emotion is the synchronous converge...</td>\n",
              "      <td>0</td>\n",
              "    </tr>\n",
              "    <tr>\n",
              "      <th>...</th>\n",
              "      <td>...</td>\n",
              "      <td>...</td>\n",
              "      <td>...</td>\n",
              "      <td>...</td>\n",
              "    </tr>\n",
              "    <tr>\n",
              "      <th>14325</th>\n",
              "      <td>14326</td>\n",
              "      <td>Social marketing interventions to promote phys...</td>\n",
              "      <td>background falls are a significant source of m...</td>\n",
              "      <td>0</td>\n",
              "    </tr>\n",
              "    <tr>\n",
              "      <th>14326</th>\n",
              "      <td>14327</td>\n",
              "      <td>Ganoderic acid A is the effective ingredient o...</td>\n",
              "      <td>autosomal dominant polycystic kidney disease a...</td>\n",
              "      <td>0</td>\n",
              "    </tr>\n",
              "    <tr>\n",
              "      <th>14327</th>\n",
              "      <td>14328</td>\n",
              "      <td>Variability of contact process in complex netw...</td>\n",
              "      <td>we study numerically how the structures of dis...</td>\n",
              "      <td>0</td>\n",
              "    </tr>\n",
              "    <tr>\n",
              "      <th>14328</th>\n",
              "      <td>14329</td>\n",
              "      <td>Phospholipase A(2) in skin biology: new insigh...</td>\n",
              "      <td>this paper aims to elucidate the role of phosp...</td>\n",
              "      <td>1</td>\n",
              "    </tr>\n",
              "    <tr>\n",
              "      <th>14329</th>\n",
              "      <td>14330</td>\n",
              "      <td>Determinants and Drivers of Infectious Disease...</td>\n",
              "      <td>infectious disease threat events idtes are inc...</td>\n",
              "      <td>0</td>\n",
              "    </tr>\n",
              "  </tbody>\n",
              "</table>\n",
              "<p>14330 rows × 4 columns</p>\n",
              "</div>\n",
              "    <div class=\"colab-df-buttons\">\n",
              "\n",
              "  <div class=\"colab-df-container\">\n",
              "    <button class=\"colab-df-convert\" onclick=\"convertToInteractive('df-479ddc09-2230-4a86-8f3b-537fc6f6e9ff')\"\n",
              "            title=\"Convert this dataframe to an interactive table.\"\n",
              "            style=\"display:none;\">\n",
              "\n",
              "  <svg xmlns=\"http://www.w3.org/2000/svg\" height=\"24px\" viewBox=\"0 -960 960 960\">\n",
              "    <path d=\"M120-120v-720h720v720H120Zm60-500h600v-160H180v160Zm220 220h160v-160H400v160Zm0 220h160v-160H400v160ZM180-400h160v-160H180v160Zm440 0h160v-160H620v160ZM180-180h160v-160H180v160Zm440 0h160v-160H620v160Z\"/>\n",
              "  </svg>\n",
              "    </button>\n",
              "\n",
              "  <style>\n",
              "    .colab-df-container {\n",
              "      display:flex;\n",
              "      gap: 12px;\n",
              "    }\n",
              "\n",
              "    .colab-df-convert {\n",
              "      background-color: #E8F0FE;\n",
              "      border: none;\n",
              "      border-radius: 50%;\n",
              "      cursor: pointer;\n",
              "      display: none;\n",
              "      fill: #1967D2;\n",
              "      height: 32px;\n",
              "      padding: 0 0 0 0;\n",
              "      width: 32px;\n",
              "    }\n",
              "\n",
              "    .colab-df-convert:hover {\n",
              "      background-color: #E2EBFA;\n",
              "      box-shadow: 0px 1px 2px rgba(60, 64, 67, 0.3), 0px 1px 3px 1px rgba(60, 64, 67, 0.15);\n",
              "      fill: #174EA6;\n",
              "    }\n",
              "\n",
              "    .colab-df-buttons div {\n",
              "      margin-bottom: 4px;\n",
              "    }\n",
              "\n",
              "    [theme=dark] .colab-df-convert {\n",
              "      background-color: #3B4455;\n",
              "      fill: #D2E3FC;\n",
              "    }\n",
              "\n",
              "    [theme=dark] .colab-df-convert:hover {\n",
              "      background-color: #434B5C;\n",
              "      box-shadow: 0px 1px 3px 1px rgba(0, 0, 0, 0.15);\n",
              "      filter: drop-shadow(0px 1px 2px rgba(0, 0, 0, 0.3));\n",
              "      fill: #FFFFFF;\n",
              "    }\n",
              "  </style>\n",
              "\n",
              "    <script>\n",
              "      const buttonEl =\n",
              "        document.querySelector('#df-479ddc09-2230-4a86-8f3b-537fc6f6e9ff button.colab-df-convert');\n",
              "      buttonEl.style.display =\n",
              "        google.colab.kernel.accessAllowed ? 'block' : 'none';\n",
              "\n",
              "      async function convertToInteractive(key) {\n",
              "        const element = document.querySelector('#df-479ddc09-2230-4a86-8f3b-537fc6f6e9ff');\n",
              "        const dataTable =\n",
              "          await google.colab.kernel.invokeFunction('convertToInteractive',\n",
              "                                                    [key], {});\n",
              "        if (!dataTable) return;\n",
              "\n",
              "        const docLinkHtml = 'Like what you see? Visit the ' +\n",
              "          '<a target=\"_blank\" href=https://colab.research.google.com/notebooks/data_table.ipynb>data table notebook</a>'\n",
              "          + ' to learn more about interactive tables.';\n",
              "        element.innerHTML = '';\n",
              "        dataTable['output_type'] = 'display_data';\n",
              "        await google.colab.output.renderOutput(dataTable, element);\n",
              "        const docLink = document.createElement('div');\n",
              "        docLink.innerHTML = docLinkHtml;\n",
              "        element.appendChild(docLink);\n",
              "      }\n",
              "    </script>\n",
              "  </div>\n",
              "\n",
              "\n",
              "<div id=\"df-4827874c-4441-414e-98da-cf5c6ced11c2\">\n",
              "  <button class=\"colab-df-quickchart\" onclick=\"quickchart('df-4827874c-4441-414e-98da-cf5c6ced11c2')\"\n",
              "            title=\"Suggest charts\"\n",
              "            style=\"display:none;\">\n",
              "\n",
              "<svg xmlns=\"http://www.w3.org/2000/svg\" height=\"24px\"viewBox=\"0 0 24 24\"\n",
              "     width=\"24px\">\n",
              "    <g>\n",
              "        <path d=\"M19 3H5c-1.1 0-2 .9-2 2v14c0 1.1.9 2 2 2h14c1.1 0 2-.9 2-2V5c0-1.1-.9-2-2-2zM9 17H7v-7h2v7zm4 0h-2V7h2v10zm4 0h-2v-4h2v4z\"/>\n",
              "    </g>\n",
              "</svg>\n",
              "  </button>\n",
              "\n",
              "<style>\n",
              "  .colab-df-quickchart {\n",
              "      --bg-color: #E8F0FE;\n",
              "      --fill-color: #1967D2;\n",
              "      --hover-bg-color: #E2EBFA;\n",
              "      --hover-fill-color: #174EA6;\n",
              "      --disabled-fill-color: #AAA;\n",
              "      --disabled-bg-color: #DDD;\n",
              "  }\n",
              "\n",
              "  [theme=dark] .colab-df-quickchart {\n",
              "      --bg-color: #3B4455;\n",
              "      --fill-color: #D2E3FC;\n",
              "      --hover-bg-color: #434B5C;\n",
              "      --hover-fill-color: #FFFFFF;\n",
              "      --disabled-bg-color: #3B4455;\n",
              "      --disabled-fill-color: #666;\n",
              "  }\n",
              "\n",
              "  .colab-df-quickchart {\n",
              "    background-color: var(--bg-color);\n",
              "    border: none;\n",
              "    border-radius: 50%;\n",
              "    cursor: pointer;\n",
              "    display: none;\n",
              "    fill: var(--fill-color);\n",
              "    height: 32px;\n",
              "    padding: 0;\n",
              "    width: 32px;\n",
              "  }\n",
              "\n",
              "  .colab-df-quickchart:hover {\n",
              "    background-color: var(--hover-bg-color);\n",
              "    box-shadow: 0 1px 2px rgba(60, 64, 67, 0.3), 0 1px 3px 1px rgba(60, 64, 67, 0.15);\n",
              "    fill: var(--button-hover-fill-color);\n",
              "  }\n",
              "\n",
              "  .colab-df-quickchart-complete:disabled,\n",
              "  .colab-df-quickchart-complete:disabled:hover {\n",
              "    background-color: var(--disabled-bg-color);\n",
              "    fill: var(--disabled-fill-color);\n",
              "    box-shadow: none;\n",
              "  }\n",
              "\n",
              "  .colab-df-spinner {\n",
              "    border: 2px solid var(--fill-color);\n",
              "    border-color: transparent;\n",
              "    border-bottom-color: var(--fill-color);\n",
              "    animation:\n",
              "      spin 1s steps(1) infinite;\n",
              "  }\n",
              "\n",
              "  @keyframes spin {\n",
              "    0% {\n",
              "      border-color: transparent;\n",
              "      border-bottom-color: var(--fill-color);\n",
              "      border-left-color: var(--fill-color);\n",
              "    }\n",
              "    20% {\n",
              "      border-color: transparent;\n",
              "      border-left-color: var(--fill-color);\n",
              "      border-top-color: var(--fill-color);\n",
              "    }\n",
              "    30% {\n",
              "      border-color: transparent;\n",
              "      border-left-color: var(--fill-color);\n",
              "      border-top-color: var(--fill-color);\n",
              "      border-right-color: var(--fill-color);\n",
              "    }\n",
              "    40% {\n",
              "      border-color: transparent;\n",
              "      border-right-color: var(--fill-color);\n",
              "      border-top-color: var(--fill-color);\n",
              "    }\n",
              "    60% {\n",
              "      border-color: transparent;\n",
              "      border-right-color: var(--fill-color);\n",
              "    }\n",
              "    80% {\n",
              "      border-color: transparent;\n",
              "      border-right-color: var(--fill-color);\n",
              "      border-bottom-color: var(--fill-color);\n",
              "    }\n",
              "    90% {\n",
              "      border-color: transparent;\n",
              "      border-bottom-color: var(--fill-color);\n",
              "    }\n",
              "  }\n",
              "</style>\n",
              "\n",
              "  <script>\n",
              "    async function quickchart(key) {\n",
              "      const quickchartButtonEl =\n",
              "        document.querySelector('#' + key + ' button');\n",
              "      quickchartButtonEl.disabled = true;  // To prevent multiple clicks.\n",
              "      quickchartButtonEl.classList.add('colab-df-spinner');\n",
              "      try {\n",
              "        const charts = await google.colab.kernel.invokeFunction(\n",
              "            'suggestCharts', [key], {});\n",
              "      } catch (error) {\n",
              "        console.error('Error during call to suggestCharts:', error);\n",
              "      }\n",
              "      quickchartButtonEl.classList.remove('colab-df-spinner');\n",
              "      quickchartButtonEl.classList.add('colab-df-quickchart-complete');\n",
              "    }\n",
              "    (() => {\n",
              "      let quickchartButtonEl =\n",
              "        document.querySelector('#df-4827874c-4441-414e-98da-cf5c6ced11c2 button');\n",
              "      quickchartButtonEl.style.display =\n",
              "        google.colab.kernel.accessAllowed ? 'block' : 'none';\n",
              "    })();\n",
              "  </script>\n",
              "</div>\n",
              "    </div>\n",
              "  </div>\n"
            ],
            "application/vnd.google.colaboratory.intrinsic+json": {
              "type": "dataframe",
              "variable_name": "abstracts_df",
              "summary": "{\n  \"name\": \"abstracts_df\",\n  \"rows\": 14330,\n  \"fields\": [\n    {\n      \"column\": \"doc_id\",\n      \"properties\": {\n        \"dtype\": \"number\",\n        \"std\": 4136,\n        \"min\": 1,\n        \"max\": 14330,\n        \"num_unique_values\": 14330,\n        \"samples\": [\n          1329,\n          750,\n          10874\n        ],\n        \"semantic_type\": \"\",\n        \"description\": \"\"\n      }\n    },\n    {\n      \"column\": \"title\",\n      \"properties\": {\n        \"dtype\": \"string\",\n        \"num_unique_values\": 10689,\n        \"samples\": [\n          \"Intracranial Injection of Dengue Virus Induces Interferon Stimulated Genes and CD8(+) T Cell Infiltration by Sphingosine Kinase 1 Independent Pathways\",\n          \"Severe fever with thrombocytopenia syndrome (SFTS) treated with a novel antiviral medication, favipiravir (T-705)\",\n          \"Subclinical in utero Zika virus infection is associated with interferon alpha sequelae and sex-specific molecular brain pathology in asymptomatic porcine offspring\"\n        ],\n        \"semantic_type\": \"\",\n        \"description\": \"\"\n      }\n    },\n    {\n      \"column\": \"abstract\",\n      \"properties\": {\n        \"dtype\": \"string\",\n        \"num_unique_values\": 14320,\n        \"samples\": [\n          \"this study 855 double blind placebo controlled food challenge useful to disconfirm over estimated diagnosis of cmp in children aims to evaluate the utility of double blind placebo controlled food challenge dbpcfc as an effective diagnostic method for overestimated diagnosis of cows milk protein allergy cmpa cmpa is a common health concern among children who often suffer from gastrointestinal and systemic symptoms due to its symptom similarity with other pathologies misdiagnoses using traditional ige testing occurs more frequently than desirable that leads to unnecessary diet avoidance or therapeutic measures with potential risks the objective was to analyse and assess if dbpcfc can be used to reduce such rate through systematic reviews up until 2020 we reviewed 855 studies from 3 scientific databases which included authorsparticipants aged 018 years old already clinically diagnosed with cmpa showing positive result for ige screening tests our qualitative analyses demonstrated that after applying dbpcfc most participants showed negative results during test confirming inaccurate original diagnosis on patients group this alleviate a high social pressure due incorrect prescribed diets avoiding healthy sources of nutrition potentially leading further complications needed prevented our research strongly affirms that dbpcfc could represent a valuable modality reducing proportionate errors due probability coincidence between clinican history physical examination along laboratory test when facing cmpa suspicious\",\n          \"purpose of review this review examines the delivery of rehabilitation care to cancer patients with relation to disease prognosis this includes the evaluation when patients are referred for rehabilitation services and the effectiveness of rehabilitation interventions across the cancer continuum recent findings although prognosticating life expectancy is difficult referrals for rehabilitation interventions appear to be affected by physician attitudes towards patients with advanced disease in part because of misconceptions about the nature of rehabilitation for oncology patients rehabilitation may also be underutilized in longterm survivors with no evidence of disease despite this our review found that rehabilitation in advanced disease endoflife geriatric cancer patients and in longterm survivors can be beneficial there is a relative dearth in studies on rehabilitation interventions specifically at the endoflife summary cancer rehabilitation can be helpful to patients along the spectrum of cancer prognoses examining more accurate ways to prognosticate life expectancy improving communication and education between oncologists and rehabilitation team members and modifying survivorship plans to include patient education on functional changes over time may improve the delivery of rehabilitation care\",\n          \"this article presents a crosssectional study to examine the associations between objectively measured body composition sleep parameters and physical activity in preschool children the present research used digital health technology devices such as accelerometers skinfold calipers and bedside monitors to measure these variables among 256 preschool children aged 46 years from three different countries  usa uk and china using multivariable regression models analyses were performed to investigate how body composition influenced sleep durationquality as well as associations between physical activity and sleep patterns in this age group of preschoolers results illustrate that higher levels of fat mass are associated with reduced average 24hour sleep duration evidence was also found for a positive correlation between heightened physical activity during afternoonsevenings versus more restful night time sleep quality in conclusion this investigation suggests that effective management of physical activity levels in combination with healthy sleeping habits could be useful in preventing metabolic complications related to excessive body fat deposition during early childhood development stages\"\n        ],\n        \"semantic_type\": \"\",\n        \"description\": \"\"\n      }\n    },\n    {\n      \"column\": \"label\",\n      \"properties\": {\n        \"dtype\": \"number\",\n        \"std\": 0,\n        \"min\": 0,\n        \"max\": 1,\n        \"num_unique_values\": 2,\n        \"samples\": [\n          0,\n          1\n        ],\n        \"semantic_type\": \"\",\n        \"description\": \"\"\n      }\n    }\n  ]\n}"
            }
          },
          "metadata": {},
          "execution_count": 12
        }
      ]
    },
    {
      "cell_type": "markdown",
      "source": [
        "`Note`\n",
        "\n",
        "The functions `abstracts_df['abstract'].str.replace('[\\n]','')` and `abstracts_df['abstract'].str.strip()` don't have exactly the same functionality.\n",
        "\n",
        "- `abstracts_df['abstract'].str.replace('[\\n]','')` replaces newline characters in the abstracts with an empty string, effectively removing all newline characters from the abstracts.\n",
        "- `abstracts_df['abstract'].str.strip()` removes leading and trailing whitespace and newline characters from the abstracts, but does not remove newline characters within the abstracts.\n",
        "\n",
        "So, if you want to remove all newline characters from the abstracts, you would use the first method. If you only want to remove leading and trailing whitespace and newline characters, you would use the second method."
      ],
      "metadata": {
        "id": "WzNb1Ohv5LbT"
      },
      "id": "WzNb1Ohv5LbT"
    },
    {
      "cell_type": "code",
      "source": [
        "'''import re\n",
        "\n",
        "def preprocessing(abstract):\n",
        "    # Use regular expression to remove non-alphanumeric characters\n",
        "    return re.sub(r'[^a-zA-Z0-9\\s]', '', abstract)\n",
        "\n",
        "# Apply the function to all abstracts in the DataFrame\n",
        "abstracts_df['abstract'] = abstracts_df['abstract'].apply(preprocessing)\n",
        "\n",
        "# Print the pre-processed DataFrame\n",
        "abstracts_df'''"
      ],
      "metadata": {
        "colab": {
          "base_uri": "https://localhost:8080/",
          "height": 71
        },
        "id": "gh24jQs3szNs",
        "outputId": "a6543137-2321-4d02-bf9f-a902bfde3d5b"
      },
      "id": "gh24jQs3szNs",
      "execution_count": null,
      "outputs": [
        {
          "output_type": "execute_result",
          "data": {
            "text/plain": [
              "\"import re\\n\\ndef preprocessing(abstract):\\n    # Use regular expression to remove non-alphanumeric characters\\n    return re.sub(r'[^a-zA-Z0-9\\\\s]', '', abstract)\\n\\n# Apply the function to all abstracts in the DataFrame\\nabstracts_df['abstract'] = abstracts_df['abstract'].apply(preprocessing)\\n\\n# Print the pre-processed DataFrame\\nabstracts_df\""
            ],
            "application/vnd.google.colaboratory.intrinsic+json": {
              "type": "string"
            }
          },
          "metadata": {},
          "execution_count": 13
        }
      ]
    },
    {
      "cell_type": "markdown",
      "id": "f9762a58-4b2c-4b85-90e8-7b7db76cb402",
      "metadata": {
        "id": "f9762a58-4b2c-4b85-90e8-7b7db76cb402"
      },
      "source": [
        "## Question 1.2: Stemming or Lemmatization\n",
        "\n",
        "**Maximum Marks: 7.5**\n",
        "\n",
        "We enhance the effectiveness of our text analysis algorithms by normalizing words and reducing them to their root/base forms."
      ]
    },
    {
      "cell_type": "markdown",
      "id": "3e1b5b77-b4e6-4238-9ce3-dbb0ca677e45",
      "metadata": {
        "tags": [],
        "id": "3e1b5b77-b4e6-4238-9ce3-dbb0ca677e45"
      },
      "source": [
        "Write a function `process_text` that\n",
        "\n",
        "\n",
        "\n",
        "1.   removes `english` stop words.\n",
        "2.   uses `PorterStemmer` and `WordNetLemmatizer` to stem AND lemmatize the tokenized abstracts.\n",
        "\n",
        "The function would take in a document and return its tokenization as a list of tokens.\n",
        "\n",
        "To verify its functionality, call the function with the first abstract as input, and then print the transformed abstract as a full text (i.e., as a string, not as a list of tokens)."
      ]
    },
    {
      "cell_type": "markdown",
      "source": [
        "`Note`\n",
        "\n",
        "When processing natural language text, it's often necessary to convert words into their base forms to reduce variations and facilitate comparisons. Two commonly used tools for this purpose in natural language processing are PorterStemmer and WordNetLemmatizer.\n",
        "\n",
        "1. **PorterStemmer**:\n",
        "   - PorterStemmer is an algorithmic-based stemmer that converts words into their stems or base forms by removing suffixes. This process does not consider the semantics of words, but rather truncates word endings based on a set of predefined rules to make them easier to match and compare.\n",
        "   - For example, the words \"running\" and \"runs\" would both be stemmed to \"run\" when processed by PorterStemmer.\n",
        "\n",
        "2. **WordNetLemmatizer**:\n",
        "   - WordNetLemmatizer is a lemmatizer that takes into account both the form and semantics of words to convert them into their base forms. It utilizes the WordNet lexical database to look up the base forms of words and applies corresponding lemmatization rules.\n",
        "   - For example, the words \"running\" and \"runs\" would both be lemmatized to \"run\" by WordNetLemmatizer, as it identifies their common base form.\n",
        "\n",
        "In summary, PorterStemmer truncates word endings based on rules without considering semantics, while WordNetLemmatizer considers word semantics to identify the true base form of words."
      ],
      "metadata": {
        "id": "Q7f_7k9AwbV-"
      },
      "id": "Q7f_7k9AwbV-"
    },
    {
      "cell_type": "code",
      "source": [
        "from nltk.stem import PorterStemmer, WordNetLemmatizer\n",
        "\n",
        "stemmer = PorterStemmer()\n",
        "lemmatizer = WordNetLemmatizer()\n",
        "stop_words = set(stopwords.words('english'))"
      ],
      "metadata": {
        "id": "mPau70ORrhuA"
      },
      "id": "mPau70ORrhuA",
      "execution_count": null,
      "outputs": []
    },
    {
      "cell_type": "code",
      "execution_count": null,
      "id": "cc1df92e-9241-422d-b858-f941d5759f71",
      "metadata": {
        "tags": [],
        "id": "cc1df92e-9241-422d-b858-f941d5759f71"
      },
      "outputs": [],
      "source": [
        "'''def process_text(text):\n",
        "  ## Fill in this function ##\n",
        "  tokens = word_tokenize(text)\n",
        "  tokens = [token for token in tokens if token not in stop_words]\n",
        "  stemmed_tokens = [stemmer.stem(token) for token in tokens]\n",
        "  lemmatized_tokens = [lemmatizer.lemmatize(token) for token in tokens]\n",
        "  stemmed_text = ', '.join(stemmed_tokens)\n",
        "  lemmatized_text = ', '.join(lemmatized_tokens)\n",
        "\n",
        "  return stemmed_text, lemmatized_text'''"
      ]
    },
    {
      "cell_type": "code",
      "source": [
        "def process_text(text):\n",
        "  ## Fill in this function ##\n",
        "  tokens = word_tokenize(text)\n",
        "  tokens = [token for token in tokens if token not in stop_words]\n",
        "  stemmed_tokens = [stemmer.stem(token) for token in tokens]\n",
        "  lemmatized_tokens = [lemmatizer.lemmatize(token) for token in stemmed_tokens]\n",
        "\n",
        "  return lemmatized_tokens"
      ],
      "metadata": {
        "id": "brSMtI4_zkfy"
      },
      "id": "brSMtI4_zkfy",
      "execution_count": null,
      "outputs": []
    },
    {
      "cell_type": "code",
      "source": [
        "'''abstracts_df['stemmed_tokens'], abstracts_df['lemmatized_tokens'] = zip(*abstracts_df['abstract'].apply(process_text)) #In Python, the asterisk (*) operator is used to unpack the elements of an iterable (such as a list or tuple) into individual arguments.\n",
        "abstracts_df'''"
      ],
      "metadata": {
        "id": "zM4v92gG2388"
      },
      "id": "zM4v92gG2388",
      "execution_count": null,
      "outputs": []
    },
    {
      "cell_type": "code",
      "source": [
        "'''## Test the function\n",
        "print(\"Stemmed Tokens:\")\n",
        "print(abstracts_df.loc[0, 'stemmed_tokens'])\n",
        "print()\n",
        "print(\"Lemmatized Tokens:\")\n",
        "print(abstracts_df.loc[0, 'lemmatized_tokens'])'''"
      ],
      "metadata": {
        "id": "MUshhXrKwHsO"
      },
      "id": "MUshhXrKwHsO",
      "execution_count": null,
      "outputs": []
    },
    {
      "cell_type": "code",
      "source": [
        "'''\n",
        "abstract = abstracts_df.loc[0, 'abstract']\n",
        "stemmed_tokens, lemmatized_tokens = process_text(abstract)\n",
        "\n",
        "stemmed_text = ', '.join(stemmed_tokens)\n",
        "lemmatized_text = ', '.join(lemmatized_tokens)\n",
        "\n",
        "print(\"Stemmed Tokens:\")\n",
        "print(stemmed_text)\n",
        "\n",
        "print(\"\\nLemmatized Tokens:\")\n",
        "print(lemmatized_text)'''\n"
      ],
      "metadata": {
        "id": "hk8TeLxQwbsi"
      },
      "id": "hk8TeLxQwbsi",
      "execution_count": null,
      "outputs": []
    },
    {
      "cell_type": "code",
      "source": [
        "## Test the function\n",
        "test = ', '.join(process_text(abstracts_df['abstract'][0]))\n",
        "print(test)"
      ],
      "metadata": {
        "colab": {
          "base_uri": "https://localhost:8080/"
        },
        "id": "2ASUuHY7hGOE",
        "outputId": "c93564e0-5ed3-4e18-b68f-d986fe797657"
      },
      "id": "2ASUuHY7hGOE",
      "execution_count": null,
      "outputs": [
        {
          "output_type": "stream",
          "name": "stdout",
          "text": [
            "studi, present, novel, transcriptom, pilot, analysi, human, ascend, aortic, tissu, explor, mechan, behind, exagger, autophagi, stanford, type, aortic, dissect, recent, establish, excess, autophagi, associ, increas, risk, progress, complic, destruct, form, thorac, aortic, injuri, howev, underli, molecular, pathway, remain, mostli, unknown, investig, mechan, conduct, rna, sequenc, experi, ribosomaldeplet, sampl, ten, ascend, aorta, dissect, surgic, resect, seven, patient, stanford, type, aortic, dissect, staad, result, provid, insight, possibl, molecular, marker, might, contribut, acceler, autophag, activ, use, research, exagger, pathway, regul, stabil, staad, patholog\n"
          ]
        }
      ]
    },
    {
      "cell_type": "markdown",
      "id": "744f97db-b178-4fb8-a6c9-ad76d4bc20bb",
      "metadata": {
        "id": "744f97db-b178-4fb8-a6c9-ad76d4bc20bb"
      },
      "source": [
        "#Vectorization\n",
        "\n",
        "Next, we will try different vector representations and see how well each performs."
      ]
    },
    {
      "cell_type": "markdown",
      "id": "0ecb4cc1-8b64-46a9-a49a-575be4850f83",
      "metadata": {
        "id": "0ecb4cc1-8b64-46a9-a49a-575be4850f83"
      },
      "source": [
        "## Question 2.1: Bag of Words\n",
        "\n",
        "**Maximum Marks: 5**\n",
        "\n",
        "Perform Bag of Words on the abstracts and store the vector representation as a DataFrame.\n",
        "\n",
        "You are expected to apply the `process_text` tokenization.\n",
        "\n",
        "Print the head of the resulting DataFrame.\n",
        "\n",
        "How many tokens does BoW yield?"
      ]
    },
    {
      "cell_type": "code",
      "execution_count": null,
      "id": "9c302596-7e24-4b3a-b5c5-a85680e3ed23",
      "metadata": {
        "scrolled": true,
        "tags": [],
        "id": "9c302596-7e24-4b3a-b5c5-a85680e3ed23"
      },
      "outputs": [],
      "source": [
        "from sklearn.feature_extraction.text import CountVectorizer"
      ]
    },
    {
      "cell_type": "code",
      "source": [
        "cv = CountVectorizer(tokenizer=process_text)\n",
        "\n",
        "cv.fit(abstracts_df['abstract'])\n",
        "dtm = cv.transform(abstracts_df['abstract'])\n",
        "bow = pd.DataFrame(dtm.toarray(), columns=cv.get_feature_names_out())\n",
        "bow"
      ],
      "metadata": {
        "colab": {
          "base_uri": "https://localhost:8080/",
          "height": 479
        },
        "id": "fSKJ_DOkyDDR",
        "outputId": "4e350f1b-1dcb-4b0c-e467-81dfb13f342d"
      },
      "id": "fSKJ_DOkyDDR",
      "execution_count": null,
      "outputs": [
        {
          "output_type": "stream",
          "name": "stderr",
          "text": [
            "/usr/local/lib/python3.10/dist-packages/sklearn/feature_extraction/text.py:528: UserWarning: The parameter 'token_pattern' will not be used since 'tokenizer' is not None'\n",
            "  warnings.warn(\n"
          ]
        },
        {
          "output_type": "execute_result",
          "data": {
            "text/plain": [
              "       0  00  000  0000  000001  000007  00001  00002  00003  000032  ...  \\\n",
              "0      0   0    0     0       0       0      0      0      0       0  ...   \n",
              "1      0   0    0     0       0       0      0      0      0       0  ...   \n",
              "2      0   0    0     0       0       0      0      0      0       0  ...   \n",
              "3      0   0    0     0       0       0      0      0      0       0  ...   \n",
              "4      0   0    0     0       0       0      0      0      0       0  ...   \n",
              "...   ..  ..  ...   ...     ...     ...    ...    ...    ...     ...  ...   \n",
              "14325  0   0    0     0       0       0      0      0      0       0  ...   \n",
              "14326  0   0    0     0       0       0      0      0      0       0  ...   \n",
              "14327  0   0    0     0       0       0      0      0      0       0  ...   \n",
              "14328  0   0    0     0       0       0      0      0      0       0  ...   \n",
              "14329  0   0    0     0       0       0      0      0      0       0  ...   \n",
              "\n",
              "       zymogen  zymographi  zymosan  zymosaninduc  zythia  zyz  zyz803  zzn  \\\n",
              "0            0           0        0             0       0    0       0    0   \n",
              "1            0           0        0             0       0    0       0    0   \n",
              "2            0           0        0             0       0    0       0    0   \n",
              "3            0           0        0             0       0    0       0    0   \n",
              "4            0           0        0             0       0    0       0    0   \n",
              "...        ...         ...      ...           ...     ...  ...     ...  ...   \n",
              "14325        0           0        0             0       0    0       0    0   \n",
              "14326        0           0        0             0       0    0       0    0   \n",
              "14327        0           0        0             0       0    0       0    0   \n",
              "14328        0           0        0             0       0    0       0    0   \n",
              "14329        0           0        0             0       0    0       0    0   \n",
              "\n",
              "       zzz  zzzn  \n",
              "0        0     0  \n",
              "1        0     0  \n",
              "2        0     0  \n",
              "3        0     0  \n",
              "4        0     0  \n",
              "...    ...   ...  \n",
              "14325    0     0  \n",
              "14326    0     0  \n",
              "14327    0     0  \n",
              "14328    0     0  \n",
              "14329    0     0  \n",
              "\n",
              "[14330 rows x 66987 columns]"
            ],
            "text/html": [
              "\n",
              "  <div id=\"df-24d103cb-0fac-4b49-b7a8-e03c58f153bd\" class=\"colab-df-container\">\n",
              "    <div>\n",
              "<style scoped>\n",
              "    .dataframe tbody tr th:only-of-type {\n",
              "        vertical-align: middle;\n",
              "    }\n",
              "\n",
              "    .dataframe tbody tr th {\n",
              "        vertical-align: top;\n",
              "    }\n",
              "\n",
              "    .dataframe thead th {\n",
              "        text-align: right;\n",
              "    }\n",
              "</style>\n",
              "<table border=\"1\" class=\"dataframe\">\n",
              "  <thead>\n",
              "    <tr style=\"text-align: right;\">\n",
              "      <th></th>\n",
              "      <th>0</th>\n",
              "      <th>00</th>\n",
              "      <th>000</th>\n",
              "      <th>0000</th>\n",
              "      <th>000001</th>\n",
              "      <th>000007</th>\n",
              "      <th>00001</th>\n",
              "      <th>00002</th>\n",
              "      <th>00003</th>\n",
              "      <th>000032</th>\n",
              "      <th>...</th>\n",
              "      <th>zymogen</th>\n",
              "      <th>zymographi</th>\n",
              "      <th>zymosan</th>\n",
              "      <th>zymosaninduc</th>\n",
              "      <th>zythia</th>\n",
              "      <th>zyz</th>\n",
              "      <th>zyz803</th>\n",
              "      <th>zzn</th>\n",
              "      <th>zzz</th>\n",
              "      <th>zzzn</th>\n",
              "    </tr>\n",
              "  </thead>\n",
              "  <tbody>\n",
              "    <tr>\n",
              "      <th>0</th>\n",
              "      <td>0</td>\n",
              "      <td>0</td>\n",
              "      <td>0</td>\n",
              "      <td>0</td>\n",
              "      <td>0</td>\n",
              "      <td>0</td>\n",
              "      <td>0</td>\n",
              "      <td>0</td>\n",
              "      <td>0</td>\n",
              "      <td>0</td>\n",
              "      <td>...</td>\n",
              "      <td>0</td>\n",
              "      <td>0</td>\n",
              "      <td>0</td>\n",
              "      <td>0</td>\n",
              "      <td>0</td>\n",
              "      <td>0</td>\n",
              "      <td>0</td>\n",
              "      <td>0</td>\n",
              "      <td>0</td>\n",
              "      <td>0</td>\n",
              "    </tr>\n",
              "    <tr>\n",
              "      <th>1</th>\n",
              "      <td>0</td>\n",
              "      <td>0</td>\n",
              "      <td>0</td>\n",
              "      <td>0</td>\n",
              "      <td>0</td>\n",
              "      <td>0</td>\n",
              "      <td>0</td>\n",
              "      <td>0</td>\n",
              "      <td>0</td>\n",
              "      <td>0</td>\n",
              "      <td>...</td>\n",
              "      <td>0</td>\n",
              "      <td>0</td>\n",
              "      <td>0</td>\n",
              "      <td>0</td>\n",
              "      <td>0</td>\n",
              "      <td>0</td>\n",
              "      <td>0</td>\n",
              "      <td>0</td>\n",
              "      <td>0</td>\n",
              "      <td>0</td>\n",
              "    </tr>\n",
              "    <tr>\n",
              "      <th>2</th>\n",
              "      <td>0</td>\n",
              "      <td>0</td>\n",
              "      <td>0</td>\n",
              "      <td>0</td>\n",
              "      <td>0</td>\n",
              "      <td>0</td>\n",
              "      <td>0</td>\n",
              "      <td>0</td>\n",
              "      <td>0</td>\n",
              "      <td>0</td>\n",
              "      <td>...</td>\n",
              "      <td>0</td>\n",
              "      <td>0</td>\n",
              "      <td>0</td>\n",
              "      <td>0</td>\n",
              "      <td>0</td>\n",
              "      <td>0</td>\n",
              "      <td>0</td>\n",
              "      <td>0</td>\n",
              "      <td>0</td>\n",
              "      <td>0</td>\n",
              "    </tr>\n",
              "    <tr>\n",
              "      <th>3</th>\n",
              "      <td>0</td>\n",
              "      <td>0</td>\n",
              "      <td>0</td>\n",
              "      <td>0</td>\n",
              "      <td>0</td>\n",
              "      <td>0</td>\n",
              "      <td>0</td>\n",
              "      <td>0</td>\n",
              "      <td>0</td>\n",
              "      <td>0</td>\n",
              "      <td>...</td>\n",
              "      <td>0</td>\n",
              "      <td>0</td>\n",
              "      <td>0</td>\n",
              "      <td>0</td>\n",
              "      <td>0</td>\n",
              "      <td>0</td>\n",
              "      <td>0</td>\n",
              "      <td>0</td>\n",
              "      <td>0</td>\n",
              "      <td>0</td>\n",
              "    </tr>\n",
              "    <tr>\n",
              "      <th>4</th>\n",
              "      <td>0</td>\n",
              "      <td>0</td>\n",
              "      <td>0</td>\n",
              "      <td>0</td>\n",
              "      <td>0</td>\n",
              "      <td>0</td>\n",
              "      <td>0</td>\n",
              "      <td>0</td>\n",
              "      <td>0</td>\n",
              "      <td>0</td>\n",
              "      <td>...</td>\n",
              "      <td>0</td>\n",
              "      <td>0</td>\n",
              "      <td>0</td>\n",
              "      <td>0</td>\n",
              "      <td>0</td>\n",
              "      <td>0</td>\n",
              "      <td>0</td>\n",
              "      <td>0</td>\n",
              "      <td>0</td>\n",
              "      <td>0</td>\n",
              "    </tr>\n",
              "    <tr>\n",
              "      <th>...</th>\n",
              "      <td>...</td>\n",
              "      <td>...</td>\n",
              "      <td>...</td>\n",
              "      <td>...</td>\n",
              "      <td>...</td>\n",
              "      <td>...</td>\n",
              "      <td>...</td>\n",
              "      <td>...</td>\n",
              "      <td>...</td>\n",
              "      <td>...</td>\n",
              "      <td>...</td>\n",
              "      <td>...</td>\n",
              "      <td>...</td>\n",
              "      <td>...</td>\n",
              "      <td>...</td>\n",
              "      <td>...</td>\n",
              "      <td>...</td>\n",
              "      <td>...</td>\n",
              "      <td>...</td>\n",
              "      <td>...</td>\n",
              "      <td>...</td>\n",
              "    </tr>\n",
              "    <tr>\n",
              "      <th>14325</th>\n",
              "      <td>0</td>\n",
              "      <td>0</td>\n",
              "      <td>0</td>\n",
              "      <td>0</td>\n",
              "      <td>0</td>\n",
              "      <td>0</td>\n",
              "      <td>0</td>\n",
              "      <td>0</td>\n",
              "      <td>0</td>\n",
              "      <td>0</td>\n",
              "      <td>...</td>\n",
              "      <td>0</td>\n",
              "      <td>0</td>\n",
              "      <td>0</td>\n",
              "      <td>0</td>\n",
              "      <td>0</td>\n",
              "      <td>0</td>\n",
              "      <td>0</td>\n",
              "      <td>0</td>\n",
              "      <td>0</td>\n",
              "      <td>0</td>\n",
              "    </tr>\n",
              "    <tr>\n",
              "      <th>14326</th>\n",
              "      <td>0</td>\n",
              "      <td>0</td>\n",
              "      <td>0</td>\n",
              "      <td>0</td>\n",
              "      <td>0</td>\n",
              "      <td>0</td>\n",
              "      <td>0</td>\n",
              "      <td>0</td>\n",
              "      <td>0</td>\n",
              "      <td>0</td>\n",
              "      <td>...</td>\n",
              "      <td>0</td>\n",
              "      <td>0</td>\n",
              "      <td>0</td>\n",
              "      <td>0</td>\n",
              "      <td>0</td>\n",
              "      <td>0</td>\n",
              "      <td>0</td>\n",
              "      <td>0</td>\n",
              "      <td>0</td>\n",
              "      <td>0</td>\n",
              "    </tr>\n",
              "    <tr>\n",
              "      <th>14327</th>\n",
              "      <td>0</td>\n",
              "      <td>0</td>\n",
              "      <td>0</td>\n",
              "      <td>0</td>\n",
              "      <td>0</td>\n",
              "      <td>0</td>\n",
              "      <td>0</td>\n",
              "      <td>0</td>\n",
              "      <td>0</td>\n",
              "      <td>0</td>\n",
              "      <td>...</td>\n",
              "      <td>0</td>\n",
              "      <td>0</td>\n",
              "      <td>0</td>\n",
              "      <td>0</td>\n",
              "      <td>0</td>\n",
              "      <td>0</td>\n",
              "      <td>0</td>\n",
              "      <td>0</td>\n",
              "      <td>0</td>\n",
              "      <td>0</td>\n",
              "    </tr>\n",
              "    <tr>\n",
              "      <th>14328</th>\n",
              "      <td>0</td>\n",
              "      <td>0</td>\n",
              "      <td>0</td>\n",
              "      <td>0</td>\n",
              "      <td>0</td>\n",
              "      <td>0</td>\n",
              "      <td>0</td>\n",
              "      <td>0</td>\n",
              "      <td>0</td>\n",
              "      <td>0</td>\n",
              "      <td>...</td>\n",
              "      <td>0</td>\n",
              "      <td>0</td>\n",
              "      <td>0</td>\n",
              "      <td>0</td>\n",
              "      <td>0</td>\n",
              "      <td>0</td>\n",
              "      <td>0</td>\n",
              "      <td>0</td>\n",
              "      <td>0</td>\n",
              "      <td>0</td>\n",
              "    </tr>\n",
              "    <tr>\n",
              "      <th>14329</th>\n",
              "      <td>0</td>\n",
              "      <td>0</td>\n",
              "      <td>0</td>\n",
              "      <td>0</td>\n",
              "      <td>0</td>\n",
              "      <td>0</td>\n",
              "      <td>0</td>\n",
              "      <td>0</td>\n",
              "      <td>0</td>\n",
              "      <td>0</td>\n",
              "      <td>...</td>\n",
              "      <td>0</td>\n",
              "      <td>0</td>\n",
              "      <td>0</td>\n",
              "      <td>0</td>\n",
              "      <td>0</td>\n",
              "      <td>0</td>\n",
              "      <td>0</td>\n",
              "      <td>0</td>\n",
              "      <td>0</td>\n",
              "      <td>0</td>\n",
              "    </tr>\n",
              "  </tbody>\n",
              "</table>\n",
              "<p>14330 rows × 66987 columns</p>\n",
              "</div>\n",
              "    <div class=\"colab-df-buttons\">\n",
              "\n",
              "  <div class=\"colab-df-container\">\n",
              "    <button class=\"colab-df-convert\" onclick=\"convertToInteractive('df-24d103cb-0fac-4b49-b7a8-e03c58f153bd')\"\n",
              "            title=\"Convert this dataframe to an interactive table.\"\n",
              "            style=\"display:none;\">\n",
              "\n",
              "  <svg xmlns=\"http://www.w3.org/2000/svg\" height=\"24px\" viewBox=\"0 -960 960 960\">\n",
              "    <path d=\"M120-120v-720h720v720H120Zm60-500h600v-160H180v160Zm220 220h160v-160H400v160Zm0 220h160v-160H400v160ZM180-400h160v-160H180v160Zm440 0h160v-160H620v160ZM180-180h160v-160H180v160Zm440 0h160v-160H620v160Z\"/>\n",
              "  </svg>\n",
              "    </button>\n",
              "\n",
              "  <style>\n",
              "    .colab-df-container {\n",
              "      display:flex;\n",
              "      gap: 12px;\n",
              "    }\n",
              "\n",
              "    .colab-df-convert {\n",
              "      background-color: #E8F0FE;\n",
              "      border: none;\n",
              "      border-radius: 50%;\n",
              "      cursor: pointer;\n",
              "      display: none;\n",
              "      fill: #1967D2;\n",
              "      height: 32px;\n",
              "      padding: 0 0 0 0;\n",
              "      width: 32px;\n",
              "    }\n",
              "\n",
              "    .colab-df-convert:hover {\n",
              "      background-color: #E2EBFA;\n",
              "      box-shadow: 0px 1px 2px rgba(60, 64, 67, 0.3), 0px 1px 3px 1px rgba(60, 64, 67, 0.15);\n",
              "      fill: #174EA6;\n",
              "    }\n",
              "\n",
              "    .colab-df-buttons div {\n",
              "      margin-bottom: 4px;\n",
              "    }\n",
              "\n",
              "    [theme=dark] .colab-df-convert {\n",
              "      background-color: #3B4455;\n",
              "      fill: #D2E3FC;\n",
              "    }\n",
              "\n",
              "    [theme=dark] .colab-df-convert:hover {\n",
              "      background-color: #434B5C;\n",
              "      box-shadow: 0px 1px 3px 1px rgba(0, 0, 0, 0.15);\n",
              "      filter: drop-shadow(0px 1px 2px rgba(0, 0, 0, 0.3));\n",
              "      fill: #FFFFFF;\n",
              "    }\n",
              "  </style>\n",
              "\n",
              "    <script>\n",
              "      const buttonEl =\n",
              "        document.querySelector('#df-24d103cb-0fac-4b49-b7a8-e03c58f153bd button.colab-df-convert');\n",
              "      buttonEl.style.display =\n",
              "        google.colab.kernel.accessAllowed ? 'block' : 'none';\n",
              "\n",
              "      async function convertToInteractive(key) {\n",
              "        const element = document.querySelector('#df-24d103cb-0fac-4b49-b7a8-e03c58f153bd');\n",
              "        const dataTable =\n",
              "          await google.colab.kernel.invokeFunction('convertToInteractive',\n",
              "                                                    [key], {});\n",
              "        if (!dataTable) return;\n",
              "\n",
              "        const docLinkHtml = 'Like what you see? Visit the ' +\n",
              "          '<a target=\"_blank\" href=https://colab.research.google.com/notebooks/data_table.ipynb>data table notebook</a>'\n",
              "          + ' to learn more about interactive tables.';\n",
              "        element.innerHTML = '';\n",
              "        dataTable['output_type'] = 'display_data';\n",
              "        await google.colab.output.renderOutput(dataTable, element);\n",
              "        const docLink = document.createElement('div');\n",
              "        docLink.innerHTML = docLinkHtml;\n",
              "        element.appendChild(docLink);\n",
              "      }\n",
              "    </script>\n",
              "  </div>\n",
              "\n",
              "\n",
              "<div id=\"df-47c312ed-ef4b-4f0b-baca-8f2a3890736e\">\n",
              "  <button class=\"colab-df-quickchart\" onclick=\"quickchart('df-47c312ed-ef4b-4f0b-baca-8f2a3890736e')\"\n",
              "            title=\"Suggest charts\"\n",
              "            style=\"display:none;\">\n",
              "\n",
              "<svg xmlns=\"http://www.w3.org/2000/svg\" height=\"24px\"viewBox=\"0 0 24 24\"\n",
              "     width=\"24px\">\n",
              "    <g>\n",
              "        <path d=\"M19 3H5c-1.1 0-2 .9-2 2v14c0 1.1.9 2 2 2h14c1.1 0 2-.9 2-2V5c0-1.1-.9-2-2-2zM9 17H7v-7h2v7zm4 0h-2V7h2v10zm4 0h-2v-4h2v4z\"/>\n",
              "    </g>\n",
              "</svg>\n",
              "  </button>\n",
              "\n",
              "<style>\n",
              "  .colab-df-quickchart {\n",
              "      --bg-color: #E8F0FE;\n",
              "      --fill-color: #1967D2;\n",
              "      --hover-bg-color: #E2EBFA;\n",
              "      --hover-fill-color: #174EA6;\n",
              "      --disabled-fill-color: #AAA;\n",
              "      --disabled-bg-color: #DDD;\n",
              "  }\n",
              "\n",
              "  [theme=dark] .colab-df-quickchart {\n",
              "      --bg-color: #3B4455;\n",
              "      --fill-color: #D2E3FC;\n",
              "      --hover-bg-color: #434B5C;\n",
              "      --hover-fill-color: #FFFFFF;\n",
              "      --disabled-bg-color: #3B4455;\n",
              "      --disabled-fill-color: #666;\n",
              "  }\n",
              "\n",
              "  .colab-df-quickchart {\n",
              "    background-color: var(--bg-color);\n",
              "    border: none;\n",
              "    border-radius: 50%;\n",
              "    cursor: pointer;\n",
              "    display: none;\n",
              "    fill: var(--fill-color);\n",
              "    height: 32px;\n",
              "    padding: 0;\n",
              "    width: 32px;\n",
              "  }\n",
              "\n",
              "  .colab-df-quickchart:hover {\n",
              "    background-color: var(--hover-bg-color);\n",
              "    box-shadow: 0 1px 2px rgba(60, 64, 67, 0.3), 0 1px 3px 1px rgba(60, 64, 67, 0.15);\n",
              "    fill: var(--button-hover-fill-color);\n",
              "  }\n",
              "\n",
              "  .colab-df-quickchart-complete:disabled,\n",
              "  .colab-df-quickchart-complete:disabled:hover {\n",
              "    background-color: var(--disabled-bg-color);\n",
              "    fill: var(--disabled-fill-color);\n",
              "    box-shadow: none;\n",
              "  }\n",
              "\n",
              "  .colab-df-spinner {\n",
              "    border: 2px solid var(--fill-color);\n",
              "    border-color: transparent;\n",
              "    border-bottom-color: var(--fill-color);\n",
              "    animation:\n",
              "      spin 1s steps(1) infinite;\n",
              "  }\n",
              "\n",
              "  @keyframes spin {\n",
              "    0% {\n",
              "      border-color: transparent;\n",
              "      border-bottom-color: var(--fill-color);\n",
              "      border-left-color: var(--fill-color);\n",
              "    }\n",
              "    20% {\n",
              "      border-color: transparent;\n",
              "      border-left-color: var(--fill-color);\n",
              "      border-top-color: var(--fill-color);\n",
              "    }\n",
              "    30% {\n",
              "      border-color: transparent;\n",
              "      border-left-color: var(--fill-color);\n",
              "      border-top-color: var(--fill-color);\n",
              "      border-right-color: var(--fill-color);\n",
              "    }\n",
              "    40% {\n",
              "      border-color: transparent;\n",
              "      border-right-color: var(--fill-color);\n",
              "      border-top-color: var(--fill-color);\n",
              "    }\n",
              "    60% {\n",
              "      border-color: transparent;\n",
              "      border-right-color: var(--fill-color);\n",
              "    }\n",
              "    80% {\n",
              "      border-color: transparent;\n",
              "      border-right-color: var(--fill-color);\n",
              "      border-bottom-color: var(--fill-color);\n",
              "    }\n",
              "    90% {\n",
              "      border-color: transparent;\n",
              "      border-bottom-color: var(--fill-color);\n",
              "    }\n",
              "  }\n",
              "</style>\n",
              "\n",
              "  <script>\n",
              "    async function quickchart(key) {\n",
              "      const quickchartButtonEl =\n",
              "        document.querySelector('#' + key + ' button');\n",
              "      quickchartButtonEl.disabled = true;  // To prevent multiple clicks.\n",
              "      quickchartButtonEl.classList.add('colab-df-spinner');\n",
              "      try {\n",
              "        const charts = await google.colab.kernel.invokeFunction(\n",
              "            'suggestCharts', [key], {});\n",
              "      } catch (error) {\n",
              "        console.error('Error during call to suggestCharts:', error);\n",
              "      }\n",
              "      quickchartButtonEl.classList.remove('colab-df-spinner');\n",
              "      quickchartButtonEl.classList.add('colab-df-quickchart-complete');\n",
              "    }\n",
              "    (() => {\n",
              "      let quickchartButtonEl =\n",
              "        document.querySelector('#df-47c312ed-ef4b-4f0b-baca-8f2a3890736e button');\n",
              "      quickchartButtonEl.style.display =\n",
              "        google.colab.kernel.accessAllowed ? 'block' : 'none';\n",
              "    })();\n",
              "  </script>\n",
              "</div>\n",
              "    </div>\n",
              "  </div>\n"
            ],
            "application/vnd.google.colaboratory.intrinsic+json": {
              "type": "dataframe",
              "variable_name": "bow"
            }
          },
          "metadata": {},
          "execution_count": 22
        }
      ]
    },
    {
      "cell_type": "code",
      "source": [
        "'''cv_s = CountVectorizer()\n",
        "\n",
        "cv_s.fit(abstracts_df['stemmed_tokens'])\n",
        "dtm_s = cv_s.transform(abstracts_df['stemmed_tokens'])\n",
        "bow_s = pd.DataFrame(dtm_s.toarray(), columns=cv_s.get_feature_names_out())\n",
        "bow_s'''"
      ],
      "metadata": {
        "id": "cjZdzhRrrke0"
      },
      "id": "cjZdzhRrrke0",
      "execution_count": null,
      "outputs": []
    },
    {
      "cell_type": "code",
      "source": [
        "'''cv_l = CountVectorizer()\n",
        "\n",
        "cv_l.fit(abstracts_df['lemmatized_tokens'])\n",
        "dtm_l = cv_l.transform(abstracts_df['lemmatized_tokens'])\n",
        "bow_l = pd.DataFrame(dtm_l.toarray(), columns=cv_l.get_feature_names_out())\n",
        "bow_l'''"
      ],
      "metadata": {
        "id": "AhMY41GJw0IS"
      },
      "id": "AhMY41GJw0IS",
      "execution_count": null,
      "outputs": []
    },
    {
      "cell_type": "markdown",
      "source": [
        "**Answer:**"
      ],
      "metadata": {
        "id": "mAjXmFBDsgO6"
      },
      "id": "mAjXmFBDsgO6"
    },
    {
      "cell_type": "markdown",
      "source": [
        "For the method, BoW yield 66,987 tokens."
      ],
      "metadata": {
        "id": "y-Jwls9Q4w5X"
      },
      "id": "y-Jwls9Q4w5X"
    },
    {
      "cell_type": "markdown",
      "id": "9e25ab45-3680-486c-91cb-e775ccecc2af",
      "metadata": {
        "id": "9e25ab45-3680-486c-91cb-e775ccecc2af"
      },
      "source": [
        "## Question 2.2: TF-IDF\n",
        "\n",
        "**Maximum Marks: 5**\n",
        "\n",
        "Using TF-IDF with `process_text` tokenization, vectorize the abstracts. Then, find the top 5 most similar abstracts to the document with doc_id=6 (shown below) in terms of content."
      ]
    },
    {
      "cell_type": "code",
      "source": [
        "query_index = 6\n",
        "print(\"document id.\", query_index, \": \", abstracts_df[\"abstract\"].iloc[query_index])"
      ],
      "metadata": {
        "colab": {
          "base_uri": "https://localhost:8080/"
        },
        "id": "3rrA4t0voWXh",
        "outputId": "0fb71e59-6097-441c-a948-63ee0f5071ba"
      },
      "id": "3rrA4t0voWXh",
      "execution_count": null,
      "outputs": [
        {
          "output_type": "stream",
          "name": "stdout",
          "text": [
            "document id. 6 :  background advantages of multiple arterial conduits for coronary artery bypass grafting cabg have been reported previously we aimed to evaluate the midterm outcomes of multiple arterial cabg mabg among patients with mild to moderate left ventricular systolic dysfunction lvsd methods this multicenter study using propensity score matching took place from january 2013 to june 2019 in jiangsu province and shanghai china with a mean and maximum followup of 33 and 68 years respectively we included patients with mild to moderate lvsd undergoing primary isolated multivessel cabg with left internal thoracic artery the inhospital and midterm outcomes of mabg versus conventional left internal thoracic artery supplemented by saphenous vein grafts single arterial cabg were compared the primary end points were death from all causes and death from cardiovascular causes the secondary end points were stroke myocardial infarction repeat revascularization and a composite of all mentioned outcomes including death from all causes major adverse events sternal wound infection was included with 6 months of followup after surgery results 243 and 676 patients were formed in mabg and single arterial cabg cohorts after matching in a 13 ratio inhospital death was not significantly different mabg 16 versus single arterial cabg 22 p  078 after a mean sd followup time of 33  18 years mabg was associated with lower rates of major adverse events hr 064 95 ci 044094 p  0019 myocardial infarction hr 039 95 ci 016099 p  0045 and repeat revascularization hr 042 95 ci 018097 p  0034 there was no difference in the rates of death stroke and sternal wound infection conclusions mabg was associated with reduced midterm rates of major adverse events and cardiovascular events and may be the procedure of choice for patients with mild to moderate lvsd requiring cabg supplementary information the online version contains supplementary material available at 101186s13019021014635\n"
          ]
        }
      ]
    },
    {
      "cell_type": "code",
      "execution_count": null,
      "id": "6a088de4-2f6b-4cb2-b9db-e65714285910",
      "metadata": {
        "scrolled": true,
        "tags": [],
        "id": "6a088de4-2f6b-4cb2-b9db-e65714285910"
      },
      "outputs": [],
      "source": [
        "from sklearn.feature_extraction.text import TfidfVectorizer"
      ]
    },
    {
      "cell_type": "code",
      "source": [
        "tfidf_model = TfidfVectorizer(tokenizer=process_text)\n",
        "\n",
        "tfidf_model.fit(abstracts_df[\"abstract\"])\n",
        "\n",
        "df_tfidf_transformed = tfidf_model.transform(abstracts_df[\"abstract\"])\n",
        "#tfidf_vectors = pd.DataFrame(df_tfidf_transformed.toarray(), columns=tfidf_model.get_feature_names_out())\n",
        "#tfidf_vectors"
      ],
      "metadata": {
        "id": "F4-dOI2b9CZv",
        "colab": {
          "base_uri": "https://localhost:8080/"
        },
        "outputId": "97e2baea-bfdf-4333-8684-c14166f60b89"
      },
      "id": "F4-dOI2b9CZv",
      "execution_count": null,
      "outputs": [
        {
          "output_type": "stream",
          "name": "stderr",
          "text": [
            "/usr/local/lib/python3.10/dist-packages/sklearn/feature_extraction/text.py:528: UserWarning: The parameter 'token_pattern' will not be used since 'tokenizer' is not None'\n",
            "  warnings.warn(\n"
          ]
        }
      ]
    },
    {
      "cell_type": "code",
      "source": [
        "df_tfidf_transformed.toarray()"
      ],
      "metadata": {
        "colab": {
          "base_uri": "https://localhost:8080/"
        },
        "id": "6bGzX5Ff_AWe",
        "outputId": "b12c5d39-ea82-4983-fa2e-5fb776d5c583"
      },
      "id": "6bGzX5Ff_AWe",
      "execution_count": null,
      "outputs": [
        {
          "output_type": "execute_result",
          "data": {
            "text/plain": [
              "array([[0., 0., 0., ..., 0., 0., 0.],\n",
              "       [0., 0., 0., ..., 0., 0., 0.],\n",
              "       [0., 0., 0., ..., 0., 0., 0.],\n",
              "       ...,\n",
              "       [0., 0., 0., ..., 0., 0., 0.],\n",
              "       [0., 0., 0., ..., 0., 0., 0.],\n",
              "       [0., 0., 0., ..., 0., 0., 0.]])"
            ]
          },
          "metadata": {},
          "execution_count": 28
        }
      ]
    },
    {
      "cell_type": "code",
      "source": [
        "'''tfidf_model_s = TfidfVectorizer()\n",
        "\n",
        "tfidf_model_s.fit(abstracts_df['stemmed_tokens'])\n",
        "\n",
        "df_tfidf_transformed_s = tfidf_model_s.transform(abstracts_df['stemmed_tokens'])\n",
        "tfidf_vectors_s = pd.DataFrame(df_tfidf_transformed_s.toarray(), columns=tfidf_model_s.get_feature_names_out())\n",
        "tfidf_vectors_s'''"
      ],
      "metadata": {
        "id": "BehvVVKitHcc"
      },
      "id": "BehvVVKitHcc",
      "execution_count": null,
      "outputs": []
    },
    {
      "cell_type": "code",
      "source": [
        "'''tfidf_model_l = TfidfVectorizer()\n",
        "\n",
        "tfidf_model_l.fit(abstracts_df['lemmatized_tokens'])\n",
        "\n",
        "df_tfidf_transformed_l = tfidf_model_l.transform(abstracts_df['lemmatized_tokens'])\n",
        "tfidf_vectors_l = pd.DataFrame(df_tfidf_transformed_l.toarray(), columns=tfidf_model_l.get_feature_names_out())\n",
        "tfidf_vectors_l'''"
      ],
      "metadata": {
        "id": "zCoq_GlX5ILF"
      },
      "id": "zCoq_GlX5ILF",
      "execution_count": null,
      "outputs": []
    },
    {
      "cell_type": "code",
      "source": [
        "from sklearn.metrics.pairwise import cosine_similarity"
      ],
      "metadata": {
        "id": "1Ip3E4nz1hdB"
      },
      "id": "1Ip3E4nz1hdB",
      "execution_count": null,
      "outputs": []
    },
    {
      "cell_type": "code",
      "source": [
        "q_vector = tfidf_model.transform([abstracts_df[\"abstract\"].iloc[query_index]])\n",
        "q_result = pd.DataFrame(cosine_similarity(q_vector, df_tfidf_transformed))"
      ],
      "metadata": {
        "id": "M3znc3Hy9P_n"
      },
      "id": "M3znc3Hy9P_n",
      "execution_count": null,
      "outputs": []
    },
    {
      "cell_type": "code",
      "source": [
        "abstract_list = list(q_result.sort_values(by=0, axis=1, ascending= False).iloc[0, :6].index)\n",
        "abstract_list = abstract_list[1:6]"
      ],
      "metadata": {
        "id": "6rdIbC957r2O"
      },
      "id": "6rdIbC957r2O",
      "execution_count": null,
      "outputs": []
    },
    {
      "cell_type": "code",
      "source": [
        "abstract_list"
      ],
      "metadata": {
        "colab": {
          "base_uri": "https://localhost:8080/"
        },
        "id": "3uxkN83b2oyZ",
        "outputId": "490b3c18-0d29-4ccb-fa28-ac612f0b2c1e"
      },
      "id": "3uxkN83b2oyZ",
      "execution_count": null,
      "outputs": [
        {
          "output_type": "execute_result",
          "data": {
            "text/plain": [
              "[8270, 6632, 3076, 4288, 3244]"
            ]
          },
          "metadata": {},
          "execution_count": 34
        }
      ]
    },
    {
      "cell_type": "code",
      "source": [
        "print(\"The top 5 most similar abstracts to the document with doc_id=6 (shown below) in terms of content are: \")\n",
        "for index in abstract_list:\n",
        "  title = abstracts_df[\"title\"].iloc[index]\n",
        "  print(title)"
      ],
      "metadata": {
        "colab": {
          "base_uri": "https://localhost:8080/"
        },
        "id": "L6tgjypqeh5w",
        "outputId": "6c5633fe-531d-4cf3-e7d1-c8587f231bad"
      },
      "id": "L6tgjypqeh5w",
      "execution_count": null,
      "outputs": [
        {
          "output_type": "stream",
          "name": "stdout",
          "text": [
            "The top 5 most similar abstracts to the document with doc_id=6 (shown below) in terms of content are: \n",
            "Does additional coronary artery bypass grafting to aortic valve replacement in elderly patients affect the early and long-term outcome?\n",
            "Does additional coronary artery bypass grafting to aortic valve replacement in elderly patients affect the early and long-term outcome?\n",
            "Preoperative right ventricular dysfunction requires high vasoactive and inotropic support during off-pump coronary artery bypass grafting\n",
            "Early changes in diaphragmatic function evaluated using ultrasound in cardiac surgery patients: a cohort study\n",
            "Sex, Age, and Socioeconomic Differences in Nonfatal Stroke Incidence and Subsequent Major Adverse Outcomes\n"
          ]
        }
      ]
    },
    {
      "cell_type": "code",
      "source": [
        "'''q_vector_s = tfidf_model_s.transform(abstracts_df[\"stemmed_tokens\"].iloc[query_index])\n",
        "pd.DataFrame(cosine_similarity(q_vector_s, tfidf_vectors_s))'''"
      ],
      "metadata": {
        "id": "ZsQp9OF11tNV"
      },
      "id": "ZsQp9OF11tNV",
      "execution_count": null,
      "outputs": []
    },
    {
      "cell_type": "code",
      "source": [
        "'''q_vector_l = tfidf_model_l.transform(abstracts_df[\"stemmed_tokens\"].iloc[query_index])\n",
        "pd.DataFrame(cosine_similarity(q_vector_l, tfidf_vectors_l))'''"
      ],
      "metadata": {
        "id": "Kzzh_0at5ofz"
      },
      "id": "Kzzh_0at5ofz",
      "execution_count": null,
      "outputs": []
    },
    {
      "cell_type": "markdown",
      "source": [
        "Q2.2 Answer\n",
        "\n",
        "The index of the top 5 most similar abstracts to the document with doc_id=6 (shown below) in terms of content is 8270, 6632, 3076, 4288, and 3244. Titles are:\n",
        "\n",
        "1.Does additional coronary artery bypass grafting to aortic valve replacement in elderly patients affect the early and long-term outcome?\n",
        "\n",
        "2.Does additional coronary artery bypass grafting to aortic valve replacement in elderly patients affect the early and long-term outcome?\n",
        "\n",
        "3.Preoperative right ventricular dysfunction requires high vasoactive and inotropic support during off-pump coronary artery bypass grafting\n",
        "\n",
        "4.Early changes in diaphragmatic function evaluated using ultrasound in cardiac surgery patients: a cohort study\n",
        "\n",
        "5.Sex, Age, and Socioeconomic Differences in Nonfatal Stroke Incidence and Subsequent Major Adverse Outcomes"
      ],
      "metadata": {
        "id": "wV1UbazKHtz4"
      },
      "id": "wV1UbazKHtz4"
    },
    {
      "cell_type": "markdown",
      "id": "6f70d532-dc04-4da5-be50-a2ec38dcec94",
      "metadata": {
        "id": "6f70d532-dc04-4da5-be50-a2ec38dcec94"
      },
      "source": [
        "## Question 2.3 Word2Vec\n",
        "\n",
        "**Maximum Marks: 7.5**\n",
        "\n",
        "Now repeat Q 2.2 but using Word2Vec. For each token, the model should consider the two adjacent tokens on its left and the two on its right. Use a `workers=4` as a parameter to speed up computations. Include **all** possible words that occur in the abstracts.\n",
        "\n",
        "Use vector averaging to calculate the vector representation of the sentence based on the vectors of its constituent words.\n",
        "\n",
        "How do the results of Word2Vec and TF-IDF compare?"
      ]
    },
    {
      "cell_type": "code",
      "source": [
        "from gensim.models import Word2Vec"
      ],
      "metadata": {
        "id": "eGPx0mqU_4Uh"
      },
      "id": "eGPx0mqU_4Uh",
      "execution_count": null,
      "outputs": []
    },
    {
      "cell_type": "code",
      "execution_count": null,
      "id": "55e2b1a7-f23d-44fe-be3e-8abf47dac1a5",
      "metadata": {
        "tags": [],
        "id": "55e2b1a7-f23d-44fe-be3e-8abf47dac1a5"
      },
      "outputs": [],
      "source": [
        "tokenized_word2vec = [process_text(t) for t in abstracts_df['abstract']]\n",
        "model_word2vec = Word2Vec(sentences=tokenized_word2vec, vector_size=300, window=2, min_count=1, workers=4, negative=20, epochs=50)"
      ]
    },
    {
      "cell_type": "code",
      "source": [
        "model_word2vec = model_word2vec.wv"
      ],
      "metadata": {
        "id": "QrVKMMze3el8"
      },
      "id": "QrVKMMze3el8",
      "execution_count": null,
      "outputs": []
    },
    {
      "cell_type": "code",
      "source": [
        "def get_word_embedding(word, model):\n",
        "    if word in model.key_to_index:\n",
        "        return model[word]\n",
        "    else:\n",
        "        # Return a zero vector for Out-of-vocabulary\n",
        "        return np.zeros(model.vector_size)"
      ],
      "metadata": {
        "id": "NRG9XuzS3zQm"
      },
      "id": "NRG9XuzS3zQm",
      "execution_count": null,
      "outputs": []
    },
    {
      "cell_type": "code",
      "source": [
        "# Construct the embeddings (i.e., vectorization) using your Word2Vec model\n",
        "embeddings = [] # List of message embeddings\n",
        "for tokenized_document in tokenized_word2vec:# Iterate through the messages\n",
        "  message_word_embeddings = [get_word_embedding(word, model_word2vec) for word in tokenized_document] # Calculate the embedding for each word in the message. Put them all in a list.\n",
        "  message_embedding = np.mean(message_word_embeddings if len(message_word_embeddings) >0 else [np.zeros(model_word2vec.vector_size)], axis=0) # Average the word embeddings to get a sentence embedding\n",
        "  embeddings = embeddings + [message_embedding] # Add the current message embedding into the list of embeddings for all messages.\n",
        "\n",
        "embeddings = np.array(embeddings)\n",
        "embeddings"
      ],
      "metadata": {
        "colab": {
          "base_uri": "https://localhost:8080/"
        },
        "id": "WyQj0ug231Wc",
        "outputId": "cf054b0c-d73a-40fc-e6b4-fe5943ec5eba"
      },
      "id": "WyQj0ug231Wc",
      "execution_count": null,
      "outputs": [
        {
          "output_type": "execute_result",
          "data": {
            "text/plain": [
              "array([[ 0.11034942, -0.4945055 , -0.24293113, ...,  0.58066237,\n",
              "        -0.1354874 ,  0.19698319],\n",
              "       [ 0.17572708, -0.5020566 , -0.24783997, ...,  0.39126864,\n",
              "         0.37660497,  0.45509362],\n",
              "       [-0.00186191, -0.25109252, -0.4485579 , ...,  0.59668475,\n",
              "        -0.01498802,  0.11994077],\n",
              "       ...,\n",
              "       [-0.16302033, -0.56428593, -0.14549582, ...,  0.6531042 ,\n",
              "        -0.00505586,  0.5549178 ],\n",
              "       [ 0.01457141, -0.3587075 , -0.34182087, ...,  0.6981138 ,\n",
              "        -0.09771834,  0.20925331],\n",
              "       [ 0.34881055, -0.3895549 ,  0.33703044, ...,  0.3992461 ,\n",
              "         0.13547543,  0.4437612 ]], dtype=float32)"
            ]
          },
          "metadata": {},
          "execution_count": 42
        }
      ]
    },
    {
      "cell_type": "code",
      "source": [
        "q_result = list(pd.DataFrame(cosine_similarity(embeddings[query_index].reshape(1, -1), embeddings.reshape(embeddings.shape[0], -1))).sort_values(by=0, axis=1, ascending= False).iloc[0, :6].index)[1:6]"
      ],
      "metadata": {
        "id": "TEKozK4tiPbb"
      },
      "id": "TEKozK4tiPbb",
      "execution_count": null,
      "outputs": []
    },
    {
      "cell_type": "code",
      "source": [
        "q_result"
      ],
      "metadata": {
        "colab": {
          "base_uri": "https://localhost:8080/"
        },
        "id": "g5y9hgIXje-s",
        "outputId": "974832c0-661d-4a03-aefa-a014df721d90"
      },
      "id": "g5y9hgIXje-s",
      "execution_count": null,
      "outputs": [
        {
          "output_type": "execute_result",
          "data": {
            "text/plain": [
              "[4727, 8270, 8588, 14180, 4878]"
            ]
          },
          "metadata": {},
          "execution_count": 44
        }
      ]
    },
    {
      "cell_type": "code",
      "source": [
        "'''print(\"The top 5 most similar abstracts to the document with doc_id=6 (shown below) in terms of content are: \")\n",
        "for index in q_result:\n",
        "  title = abstracts_df[\"title\"].iloc[index]\n",
        "  print(title)'''"
      ],
      "metadata": {
        "id": "_al1KxAx2ij9"
      },
      "id": "_al1KxAx2ij9",
      "execution_count": null,
      "outputs": []
    },
    {
      "cell_type": "code",
      "source": [
        "title_0 = abstracts_df[\"title\"].iloc[query_index]\n",
        "label_0 = abstracts_df[\"label\"].iloc[query_index]\n",
        "print(title_0, label_0)"
      ],
      "metadata": {
        "colab": {
          "base_uri": "https://localhost:8080/"
        },
        "id": "RZRzYcrN6wX6",
        "outputId": "cef28742-9d63-498a-a50d-e840d594fa8c"
      },
      "id": "RZRzYcrN6wX6",
      "execution_count": null,
      "outputs": [
        {
          "output_type": "stream",
          "name": "stdout",
          "text": [
            "Multiple arterial conduits for multi-vessel coronary artery bypass grafting in patients with mild to moderate left ventricular systolic dysfunction: a multicenter retrospective study 0\n"
          ]
        }
      ]
    },
    {
      "cell_type": "code",
      "source": [
        "for index in abstract_list:\n",
        "  title_2 = abstracts_df[\"title\"].iloc[index]\n",
        "  label_2 = abstracts_df[\"label\"].iloc[index]\n",
        "  print(title_2, label_2)"
      ],
      "metadata": {
        "colab": {
          "base_uri": "https://localhost:8080/"
        },
        "id": "Cm_nkse_6nAm",
        "outputId": "7113accf-3810-4716-9564-7c055d6ec4be"
      },
      "id": "Cm_nkse_6nAm",
      "execution_count": null,
      "outputs": [
        {
          "output_type": "stream",
          "name": "stdout",
          "text": [
            "Does additional coronary artery bypass grafting to aortic valve replacement in elderly patients affect the early and long-term outcome? 0\n",
            "Does additional coronary artery bypass grafting to aortic valve replacement in elderly patients affect the early and long-term outcome? 1\n",
            "Preoperative right ventricular dysfunction requires high vasoactive and inotropic support during off-pump coronary artery bypass grafting 1\n",
            "Early changes in diaphragmatic function evaluated using ultrasound in cardiac surgery patients: a cohort study 1\n",
            "Sex, Age, and Socioeconomic Differences in Nonfatal Stroke Incidence and Subsequent Major Adverse Outcomes 0\n"
          ]
        }
      ]
    },
    {
      "cell_type": "code",
      "source": [
        "for index in q_result:\n",
        "  title_1 = abstracts_df[\"title\"].iloc[index]\n",
        "  label_1 = abstracts_df[\"label\"].iloc[index]\n",
        "  print(title_1, label_1)"
      ],
      "metadata": {
        "colab": {
          "base_uri": "https://localhost:8080/"
        },
        "id": "FlwItxS86cMy",
        "outputId": "67a341dc-0af7-44ae-c7d7-9a179cbb5488"
      },
      "id": "FlwItxS86cMy",
      "execution_count": null,
      "outputs": [
        {
          "output_type": "stream",
          "name": "stdout",
          "text": [
            "Cerebrovascular autoregulation and arterial carbon dioxide in patients with acute respiratory distress syndrome: a prospective observational cohort study 0\n",
            "Does additional coronary artery bypass grafting to aortic valve replacement in elderly patients affect the early and long-term outcome? 0\n",
            "Risk Factors for Dysphagia and the Impact on Outcome After Spontaneous Subarachnoid Hemorrhage 0\n",
            "Risk of Readmission and Mortality Following Hospitalization with Hypercapnic Respiratory Failure 0\n",
            "Cancer patients with community-acquired pneumonia treated in intensive care have poorer outcomes associated with increased illness severity and septic shock at admission to intensive care: a retrospective cohort study 0\n"
          ]
        }
      ]
    },
    {
      "cell_type": "markdown",
      "source": [
        "**Answer:**"
      ],
      "metadata": {
        "id": "pMF3oiDrRZyv"
      },
      "id": "pMF3oiDrRZyv"
    },
    {
      "cell_type": "markdown",
      "source": [
        "When comparing the results obtained from Word2Vec and TF-IDF, I utilized cosine similarity to identify the top 5 most similar abstracts to the document with doc_id=6 in terms of content.\n",
        "\n",
        "Upon comparing the labels of these results with the label of document doc_id=6, I observed that the Word2Vec method yielded superior outcomes. Specifically, the labels generated by the Word2Vec method precisely matched the label of the target document (doc_id=6), all being original abstracts. In contrast, the TF-IDF method produced three AI-generated abstracts as labels, which differed from the target document label.\n",
        "\n",
        "Based on this comparison, I conclude that the Word2Vec method is more effective than TF-IDF."
      ],
      "metadata": {
        "id": "YxUJZz3V58W1"
      },
      "id": "YxUJZz3V58W1"
    },
    {
      "cell_type": "markdown",
      "source": [
        "# Classification"
      ],
      "metadata": {
        "id": "FS1ASeTTyhGm"
      },
      "id": "FS1ASeTTyhGm"
    },
    {
      "cell_type": "markdown",
      "source": [
        "## Question 3.1: GloVe\n",
        "\n",
        "**Maximum Marks: 7.5**\n",
        "\n",
        "Instead of training our own Word2Vec model, we decided to use a [GloVe](https://nlp.stanford.edu/projects/glove/) model that was pre-trained by researchers at Stanford University. They used a much larger amount of text in their training (e.g., Wikipedia).\n",
        "\n",
        "For this question, simply use `get_tokens(doc)` below for tokenization.\n",
        "\n",
        "**Note:** *Vectorizing the entire dataset using GloVe may take 5-10 minutes. Use the guidelines we discussed in class to test and develop your code before fully applying it to the entire dataset.*"
      ],
      "metadata": {
        "id": "I4vxyXXx7PkT"
      },
      "id": "I4vxyXXx7PkT"
    },
    {
      "cell_type": "code",
      "source": [
        "from gensim import downloader\n",
        "\n",
        "# load the GloVe model\n",
        "glove_model = downloader.load(\"glove-wiki-gigaword-50\")"
      ],
      "metadata": {
        "id": "rBXvdoGiCBX2",
        "colab": {
          "base_uri": "https://localhost:8080/"
        },
        "outputId": "d2ce2b07-783a-49a0-9eb3-01f44417eb5f"
      },
      "id": "rBXvdoGiCBX2",
      "execution_count": null,
      "outputs": [
        {
          "output_type": "stream",
          "name": "stdout",
          "text": [
            "[==================================================] 100.0% 66.0/66.0MB downloaded\n"
          ]
        }
      ]
    },
    {
      "cell_type": "code",
      "source": [
        "import spacy\n",
        "nlp = spacy.load(\"en_core_web_sm\")\n",
        "\n",
        "def get_tokens(doc):\n",
        "    doc_tokenized = nlp(doc)\n",
        "    tokens = [token.text for token in doc_tokenized]\n",
        "    return tokens"
      ],
      "metadata": {
        "id": "ZBgN7-52bzDy"
      },
      "id": "ZBgN7-52bzDy",
      "execution_count": null,
      "outputs": []
    },
    {
      "cell_type": "code",
      "source": [
        "glove_tokens = []\n",
        "for abstract in abstracts_df['abstract']:\n",
        "    tokens = get_tokens(abstract)\n",
        "    glove_tokens.append(tokens)"
      ],
      "metadata": {
        "id": "4v1uV1SB6ppL"
      },
      "id": "4v1uV1SB6ppL",
      "execution_count": null,
      "outputs": []
    },
    {
      "cell_type": "code",
      "source": [
        "embeddings_glove = [] # List of message embeddings\n",
        "for tokenized_document in glove_tokens:# Iterate through the messages\n",
        "  message_word_embeddings = [get_word_embedding(word, glove_model) for word in tokenized_document ] # Calculate the embedding for each word in the message. Put them all in a list.\n",
        "  message_embedding = np.mean(message_word_embeddings if len(message_word_embeddings) >0 else [np.zeros(model_word2vec.vector_size)], axis=0) # Average the word embeddings to get a sentence embedding\n",
        "  embeddings_glove = embeddings_glove + [message_embedding] # Add the current message embedding into the list of embeddings for all messages.\n",
        "\n",
        "embeddings_glove = np.array(embeddings_glove)\n",
        "embeddings_glove"
      ],
      "metadata": {
        "colab": {
          "base_uri": "https://localhost:8080/"
        },
        "id": "7Odk-IyfdQdf",
        "outputId": "463f2470-dbc4-493f-f750-caac93998903"
      },
      "id": "7Odk-IyfdQdf",
      "execution_count": null,
      "outputs": [
        {
          "output_type": "execute_result",
          "data": {
            "text/plain": [
              "array([[ 0.60367081,  0.12071785, -0.04317449, ...,  0.17389467,\n",
              "        -0.05993591, -0.05317814],\n",
              "       [ 0.51261615,  0.11428579,  0.0767181 , ...,  0.11840849,\n",
              "         0.01182068, -0.00559276],\n",
              "       [ 0.49807717,  0.02423132, -0.06043726, ...,  0.15202371,\n",
              "         0.01323068,  0.06847766],\n",
              "       ...,\n",
              "       [ 0.50933164,  0.11201573, -0.16306889, ...,  0.09674443,\n",
              "        -0.0443515 , -0.12033479],\n",
              "       [ 0.55038424,  0.11670404, -0.1271348 , ...,  0.1681476 ,\n",
              "        -0.03529005, -0.08673325],\n",
              "       [ 0.33897869,  0.11229256,  0.0465749 , ...,  0.1029314 ,\n",
              "         0.12011714, -0.08015687]])"
            ]
          },
          "metadata": {},
          "execution_count": 52
        }
      ]
    },
    {
      "cell_type": "markdown",
      "source": [
        "## Question 3.2: Random Forest Classifier\n",
        "\n",
        "**Maximum Marks: 7.5**\n",
        "\n",
        "Using a [`RandomForestClassifier`](https://scikit-learn.org/stable/modules/generated/sklearn.ensemble.RandomForestClassifier.html), compare the classification results using GloVe to those using TF-IDF. Does GloVe do better or worse? Are there any particular issues you faced? Elaborate on your findings and justify them.\n",
        "\n",
        "Use a test set of 20% the total dataset size. Use `random_state = 42`.\n",
        "\n",
        "Print the `classification_report` of your model."
      ],
      "metadata": {
        "id": "xDqkr-icFHBk"
      },
      "id": "xDqkr-icFHBk"
    },
    {
      "cell_type": "code",
      "source": [
        "from sklearn.model_selection import train_test_split"
      ],
      "metadata": {
        "id": "iv5LGhP5-c0B"
      },
      "id": "iv5LGhP5-c0B",
      "execution_count": null,
      "outputs": []
    },
    {
      "cell_type": "code",
      "source": [
        "''''def get_split_datasets(X, y, stratify=False, stratify_size = 400):\n",
        "  if stratify:\n",
        "    # split into ham and spam\n",
        "    y_treat = y[y == 1]\n",
        "    X_treat = X[y == 1]\n",
        "    y_control = y[y == 0]\n",
        "    X_control = X[y == 0]\n",
        "\n",
        "    # split and randomly sample into train and test\n",
        "    X_treat_train, X_treat_test, y_treat_train, y_treat_test = train_test_split(X_treat, y_treat, test_size=0.2, random_state=42)\n",
        "    X_control_train, X_control_test, y_control_train, y_control_test = train_test_split(X_control, y_control, test_size=0.2, random_state=42)\n",
        "\n",
        "    # merge again with equal number of samples per class\n",
        "    X_train = pd.concat([X_treat_train[:stratify_size], X_control_train[:stratify_size]], axis=0)\n",
        "    X_test = pd.concat([X_treat_test[:stratify_size], X_control_test[:stratify_size]], axis=0)\n",
        "    y_train = y_treat_train[:stratify_size].append(y_control_train[:stratify_size])\n",
        "    y_test = y_treat_test[:stratify_size].append(y_control_test[:stratify_size])\n",
        "  else:\n",
        "    X_train, X_test, y_train, y_test = train_test_split(X, y, test_size=0.2, random_state=42)\n",
        "\n",
        "  return X_train, X_test, y_train, y_test'''"
      ],
      "metadata": {
        "id": "hlSLacl4G1DU"
      },
      "id": "hlSLacl4G1DU",
      "execution_count": null,
      "outputs": []
    },
    {
      "cell_type": "code",
      "source": [
        "y = abstracts_df[\"label\"]"
      ],
      "metadata": {
        "id": "_2enaWnH-n-R"
      },
      "id": "_2enaWnH-n-R",
      "execution_count": null,
      "outputs": []
    },
    {
      "cell_type": "code",
      "source": [
        "#stratify = False\n",
        "X_train_tfidf, X_test_tfidf, y_train_tfidf, y_test_tfidf = train_test_split(df_tfidf_transformed, y, test_size=0.2, random_state=42)"
      ],
      "metadata": {
        "id": "jaXuuq4Q-njd"
      },
      "id": "jaXuuq4Q-njd",
      "execution_count": null,
      "outputs": []
    },
    {
      "cell_type": "code",
      "source": [
        "from sklearn.ensemble import RandomForestClassifier\n",
        "from sklearn.metrics import classification_report\n",
        "rf_classifier = RandomForestClassifier(random_state=42)"
      ],
      "metadata": {
        "id": "-ExqCtXV_GF8"
      },
      "id": "-ExqCtXV_GF8",
      "execution_count": null,
      "outputs": []
    },
    {
      "cell_type": "code",
      "source": [
        "rf_classifier.fit(X_train_tfidf, y_train_tfidf)\n",
        "y_pred_tfidf = rf_classifier.predict(X_test_tfidf)"
      ],
      "metadata": {
        "id": "20gGdSqTWP-K"
      },
      "id": "20gGdSqTWP-K",
      "execution_count": null,
      "outputs": []
    },
    {
      "cell_type": "code",
      "source": [
        "print(classification_report(y_test_tfidf,y_pred_tfidf))"
      ],
      "metadata": {
        "colab": {
          "base_uri": "https://localhost:8080/"
        },
        "id": "9HzA3KAdWY0Z",
        "outputId": "f2644008-320a-475a-e05f-4b4c41344d96"
      },
      "id": "9HzA3KAdWY0Z",
      "execution_count": null,
      "outputs": [
        {
          "output_type": "stream",
          "name": "stdout",
          "text": [
            "              precision    recall  f1-score   support\n",
            "\n",
            "           0       0.96      0.91      0.93      1426\n",
            "           1       0.92      0.96      0.94      1440\n",
            "\n",
            "    accuracy                           0.93      2866\n",
            "   macro avg       0.94      0.93      0.93      2866\n",
            "weighted avg       0.94      0.93      0.93      2866\n",
            "\n"
          ]
        }
      ]
    },
    {
      "cell_type": "code",
      "source": [
        "#stratify = False\n",
        "X_train_glove, X_test_glove, y_train_glove, y_test_glove = train_test_split(embeddings_glove, y, test_size=0.2, random_state=42)"
      ],
      "metadata": {
        "id": "DgiJ68Q4Wvde"
      },
      "id": "DgiJ68Q4Wvde",
      "execution_count": null,
      "outputs": []
    },
    {
      "cell_type": "code",
      "source": [
        "rf_classifier.fit(X_train_glove, y_train_glove)\n",
        "y_pred_glove = rf_classifier.predict(X_test_glove)"
      ],
      "metadata": {
        "id": "zImkOGZYXC0K"
      },
      "id": "zImkOGZYXC0K",
      "execution_count": null,
      "outputs": []
    },
    {
      "cell_type": "code",
      "source": [
        "print(classification_report(y_test_glove,y_pred_glove))"
      ],
      "metadata": {
        "colab": {
          "base_uri": "https://localhost:8080/"
        },
        "id": "dYa2q3lHXN7h",
        "outputId": "4126c0f2-828f-4c78-9386-e0e75a1b96c2"
      },
      "id": "dYa2q3lHXN7h",
      "execution_count": null,
      "outputs": [
        {
          "output_type": "stream",
          "name": "stdout",
          "text": [
            "              precision    recall  f1-score   support\n",
            "\n",
            "           0       0.88      0.86      0.87      1426\n",
            "           1       0.87      0.88      0.87      1440\n",
            "\n",
            "    accuracy                           0.87      2866\n",
            "   macro avg       0.87      0.87      0.87      2866\n",
            "weighted avg       0.87      0.87      0.87      2866\n",
            "\n"
          ]
        }
      ]
    },
    {
      "cell_type": "markdown",
      "source": [
        "**Answer**:\n"
      ],
      "metadata": {
        "id": "R0g9sHVPFptP"
      },
      "id": "R0g9sHVPFptP"
    },
    {
      "cell_type": "markdown",
      "source": [
        "The classification report suggests that the results obtained using GloVe embeddings are inferior to those using TF-IDF under the RandomForestClassifier. Specifically, both F-1 score and accuracy metrics indicate poorer performance with GloVe.\n",
        "\n",
        "This could be attributed to two main factors: Dimensionality and Model Selection. Firstly, GloVe embeddings usually have higher dimensionality compared to TF-IDF vectors. Given the relatively small dataset size (14330 data points × 4 features), the increased dimensionality of GloVe embeddings might exacerbate issues, resulting in degraded performance.\n",
        "\n",
        "Secondly, Random Forests generally excel with TF-IDF representations due to their direct feature representation leveraging word frequency and inverse document frequency. These features offer straightforward information for document differentiation, aligning well with the tree-based model's interpretability and utility.\n",
        "\n",
        "In summary, the combination of higher dimensionality in GloVe embeddings and Random Forests' preference for TF-IDF representations could explain the observed performance disparity.\n"
      ],
      "metadata": {
        "id": "emrOwe6Z8hXr"
      },
      "id": "emrOwe6Z8hXr"
    },
    {
      "cell_type": "markdown",
      "source": [
        "`Note`\n",
        "\n",
        "There could be several reasons why the F-1 score or accuracy of GloVe embeddings might be worse than those of TF-IDF. Here are a few potential explanations:\n",
        "\n",
        "1. **Embedding Quality**: The quality of GloVe embeddings might not be as suitable for the specific task at hand compared to TF-IDF vectors. GloVe embeddings are trained on large corpora and might not capture the relevant semantic information for the classification task as effectively as TF-IDF vectors, especially if the task involves domain-specific or nuanced language.\n",
        "\n",
        "2. **Dimensionality**: GloVe embeddings typically have a higher dimensionality compared to TF-IDF vectors. If the dataset is relatively small or the model is prone to overfitting, the higher dimensionality of GloVe embeddings might exacerbate this issue, leading to worse performance.\n",
        "\n",
        "3. **Fine-tuning**: GloVe embeddings are pre-trained on large corpora and might not be fine-tuned specifically for the classification task at hand. In contrast, TF-IDF vectors are derived directly from the training data and might capture more task-specific information.\n",
        "\n",
        "4. **Data Representation**: TF-IDF vectors represent documents based on the frequency of words, which might be more informative for certain classification tasks, especially if the task relies heavily on keyword frequency. GloVe embeddings, on the other hand, represent documents based on semantic similarity, which might not always align perfectly with the classification requirements.\n",
        "\n",
        "5. **Model Selection**: The choice of classification model could also impact the performance difference between GloVe embeddings and TF-IDF vectors. Some models might be better suited to handle the characteristics of one representation over the other.\n",
        "\n",
        "To address this discrepancy, you could experiment with different hyperparameters, model architectures, or even try fine-tuning the GloVe embeddings on your specific classification task to see if performance improves. Additionally, it's essential to thoroughly analyze the data and the nature of the classification task to determine which representation method is more appropriate."
      ],
      "metadata": {
        "id": "6NNStlO4AaZe"
      },
      "id": "6NNStlO4AaZe"
    },
    {
      "cell_type": "markdown",
      "source": [
        "`Note`\n",
        "\n",
        "Generally, Random Forests tend to perform better with TF-IDF representations. Here's why:\n",
        "\n",
        "1. **Direct Feature Representation**: TF-IDF provides a more direct representation of features by leveraging word frequency and inverse document frequency. These features can often offer straightforward information to differentiate between documents. Such direct feature representations are typically easier to interpret and utilize in tree-based models like Random Forests.\n",
        "\n",
        "2. **Sparse Data Handling**: TF-IDF vectors are often sparse as they only contain information about the frequency of words appearing in documents. For tree-based models like Random Forests, handling sparse data is more efficient, as trees can easily handle missing values in features.\n",
        "\n",
        "3. **Robustness to Outliers and Noise**: TF-IDF vectors tend to be more robust to outliers and noise because they primarily rely on word frequencies. In contrast, GloVe embeddings might be more sensitive to outliers as they map words to continuous high-dimensional spaces, which can lead to unstable representations in the presence of noise or outliers.\n",
        "\n",
        "However, this doesn't mean it's always the case. Depending on the dataset and the task at hand, GloVe embeddings might perform better, especially if the task involves semantic similarity or considers relationships between words. Therefore, it's advisable to evaluate the performance of different feature representations using techniques like cross-validation to determine which method performs better for a given task."
      ],
      "metadata": {
        "id": "CryUWmdrAW2G"
      },
      "id": "CryUWmdrAW2G"
    }
  ],
  "metadata": {
    "kernelspec": {
      "display_name": "Python 3",
      "name": "python3"
    },
    "language_info": {
      "codemirror_mode": {
        "name": "ipython",
        "version": 3
      },
      "file_extension": ".py",
      "mimetype": "text/x-python",
      "name": "python",
      "nbconvert_exporter": "python",
      "pygments_lexer": "ipython3",
      "version": "3.11.4"
    },
    "colab": {
      "provenance": [],
      "gpuType": "T4",
      "include_colab_link": true
    },
    "accelerator": "GPU"
  },
  "nbformat": 4,
  "nbformat_minor": 5
}